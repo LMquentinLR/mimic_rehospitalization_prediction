{
 "cells": [
  {
   "cell_type": "markdown",
   "metadata": {},
   "source": [
    "# AIQDSC27 - Machine Learning Algorithms Project\n",
    "\n",
    "**Student**: Quentin Le Roux\n",
    "\n",
    "## Instructions"
   ]
  },
  {
   "cell_type": "markdown",
   "metadata": {},
   "source": [
    "With the available part of the MIMICS dataset, propose the best model (among Linear Regression, KNN, Naive Bayes, RandomForest, SVM) to predict:\n",
    "\n",
    "> re-hospitalization (evaluation metrics, accuracy)\n",
    "\n",
    "To build the features (X), all or part of the following columns can be used (all types of pre-processing is allowed):\n",
    "\n",
    "- DOB: Date of Birth\n",
    "- GENDER\n",
    "- MARITAL_STATUS\n",
    "- ETHNICITY\n",
    "- INSURANCE\n",
    "- DEATHTIME: Date of Death (if the patient has died)\n",
    "- ADMITTIME: Date of the admission\n",
    "- ADMISSION_TYPE\n",
    "    - blood, circulatory, congenital, digestive, endocrine, genitourinary, infectious, injury, mental, misc, muscular, neoplasms, nervous, pregnancy, prenatal, respiratory, skin\n",
    "    - Bag of Words representation of diagnosis\n",
    "- DISCHTIME: date of the discharge\n",
    "- DISCHARGE_LOCATION: patient's destination after discharge from hospital\n",
    "- TEXT: discharge medical report\n",
    "\n",
    "To build Y, you can use all or part of the following columns (and there too, do the preprocessing you want):\n",
    "\n",
    "- DAYS_NEXT_ADMIT: number of days between discharge and readmission\n",
    "- NXT_ADMITTIME: date of readmission\n",
    "- OUTPUT_LABEL\n",
    "- DEATHTIME: Date of Death (if the patient has died)\n",
    "\n",
    "Data leakage (i.e. https://www.kaggle.com/alexisbcook/data-leakage) has to be accounted for/dealt with.\n",
    "\n",
    "The rendering will be in the form of a jupyter notebook written like a report: with a clearly announced plan, different sections and a conclusion.\n",
    "\n",
    "A part of the grade will be given on the quality of the report (8 points), a part on the quality of the work done, and the respect of the methodology (6 points), a part on the quality of the prediction (6 points). "
   ]
  },
  {
   "cell_type": "markdown",
   "metadata": {},
   "source": [
    "#### <span style=\"color:red\">Note on Data Leakage</span>\n",
    "\n",
    "From [Kaggle](https://www.kaggle.com/alexisbcook/data-leakage):\n",
    "\n",
    "> \"Data leakage (or leakage) happens when **your training data contains information about the target**, but similar data will not be available when the model is used for prediction. This leads to high performance on the training set (and possibly even the validation data), but the model will perform poorly in production.\n",
    "> \n",
    "> [...]\n",
    "> \n",
    "> **Target leakage** occurs when your predictors include data that will not be available at the time you make predictions. It is important to think about target leakage in terms of the timing or chronological order that data becomes available, not merely whether a feature helps make good predictions.\n",
    "> \n",
    "> [...] \n",
    "> \n",
    "> Validation is meant to be a measure of how the model does on data that it hasn't considered before. You can corrupt this process in subtle ways if the validation data affects the preprocessing behavior. This is sometimes called **train-test contamination**.\"\n",
    "\n",
    "#### <span style=\"color:red\">Note on the required models</span>\n",
    "\n",
    "The mentioned models are:\n",
    "\n",
    "- *Linear Regression*\n",
    "- KNN\n",
    "- Naive Bayes\n",
    "- RandomForest\n",
    "- SVM\n",
    "\n",
    "Linear Regression is a **regression** model while the three others are **classification** models. We will replace it by a **logistic regression** as a classification model to perform more classification comparisons.\n",
    "\n",
    "Our comparison of linear regression model (i.e. Lasso, Ridge, ElasticSearch) is available in our other exercise AIQDSC28."
   ]
  },
  {
   "cell_type": "markdown",
   "metadata": {},
   "source": [
    "## 0. Table of Content\n",
    "\n",
    "1. **Introduction**\n",
    "\n",
    "    a. Overview of project\n",
    "    \n",
    "    b. Library imports \n",
    "    \n",
    "    c. Custom functions\n",
    "\n",
    "\n",
    "2. **Pre-processing**\n",
    "\n",
    "    a. Methodology\n",
    "    \n",
    "    b. Data pre-processing\n",
    "\n",
    "\n",
    "3. **Modeling**\n",
    "\n",
    "    a. Logistic Regression\n",
    "    \n",
    "    b. KNN\n",
    "    \n",
    "    c. Naive Bayes\n",
    "    \n",
    "    d. Random Forest\n",
    "    \n",
    "    e. SVM\n",
    "    \n",
    "    f. Boosting\n",
    "    \n",
    "    g. Summarizing results\n",
    " \n",
    " \n",
    "4. **Exploring our best model**\n",
    "\n",
    "    a. Removing ETHNICITY from the dataset\n",
    "    \n",
    "    b. Performing PCA on our Bag of Words representation\n",
    "    \n",
    "    b. Binary classification\n",
    "    \n",
    "    c. Overall parameter impact overview\n",
    "\n",
    "\n",
    "5. **Conclusion**\n",
    "\n",
    "    a. Model Choice\n",
    "\n",
    "    b. Best Model Parameters\n",
    "    \n",
    "    c. Looking for ways to improve the predictions\n",
    "    \n",
    "    d. Further explorations?"
   ]
  },
  {
   "cell_type": "markdown",
   "metadata": {},
   "source": [
    "## 1. Introduction\n",
    "\n",
    "### 1.1 Overview of project\n",
    "\n",
    "The following project will be **organized in three parts**: i) pre-processing, ii) training models with and without the provided TEXT variable, iii) concluding and offering other areas of explorations.\n",
    "\n",
    "<u>1 - **Data pre-processing**:</u>\n",
    "\n",
    "The goal is to build a training and testing set of features based on the content of the MIMIC dataset subset we have been provided. Our preprocessing will follow the following steps:\n",
    "\n",
    "    1. Loading the training and test sets\n",
    "\n",
    "    2. Identifying the features at risk of data leakage\n",
    "\n",
    "    3. Selecting our feature variables (X) and target variable (Y)\n",
    "\n",
    "    4. Performing pre-processing on our target variable (Y)\n",
    "        \n",
    "    5. Performing pre-processing on our feature variables (X)\n",
    "\n",
    "\n",
    "<u>2 - **Training our models models**:</u>\n",
    "\n",
    "We will proceed with the main section of the exercise: performing classification. \n",
    "\n",
    "**We will split our neural network training process between models**:\n",
    "\n",
    "- Logistic Regression\n",
    "\n",
    "- KNN\n",
    "\n",
    "- Naive Bayes\n",
    "\n",
    "- RandomForest\n",
    "\n",
    "- SVM\n",
    "\n",
    "- Boosting\n",
    "    \n",
    "<u>3 - **Results Comparison**:</u>\n",
    "\n",
    "We will then **select the most promising of the four six models** and perform further hyperparameter tuning, dataset refining, etc. to increase the model's performance\n",
    "\n",
    "Finally, we will conclude and propose further areas of exploration.\n",
    "\n",
    "<hr>\n",
    "\n",
    "<span style=\"color:red\">At each step, we will be careful to highlight our comments and notes</span>."
   ]
  },
  {
   "cell_type": "markdown",
   "metadata": {},
   "source": [
    "### 1.2 Library imports and built functions"
   ]
  },
  {
   "cell_type": "code",
   "execution_count": 1,
   "metadata": {},
   "outputs": [],
   "source": [
    "import datetime as dt\n",
    "import math\n",
    "import matplotlib.pyplot as plt\n",
    "import nltk\n",
    "import numpy as np\n",
    "import os\n",
    "import pandas as pd\n",
    "\n",
    "import seaborn as sns\n",
    "sns.set_theme(style=\"ticks\", color_codes=True)\n",
    "import warnings\n",
    "warnings.filterwarnings('ignore')\n",
    "\n",
    "from itertools import cycle\n",
    "\n",
    "from nltk.corpus import stopwords\n",
    "from nltk.tokenize import word_tokenize\n",
    "\n",
    "from sklearn.decomposition import PCA\n",
    "from sklearn.ensemble import RandomForestClassifier, AdaBoostClassifier\n",
    "from sklearn.feature_extraction.text import CountVectorizer\n",
    "from sklearn.linear_model import LogisticRegression\n",
    "from sklearn.metrics import f1_score, r2_score, accuracy_score\n",
    "from sklearn.metrics import confusion_matrix, plot_confusion_matrix\n",
    "from sklearn.model_selection import GridSearchCV\n",
    "from sklearn.naive_bayes import GaussianNB\n",
    "from sklearn.neighbors import KNeighborsClassifier\n",
    "from sklearn.preprocessing import MinMaxScaler\n",
    "from sklearn.svm import SVC"
   ]
  },
  {
   "cell_type": "markdown",
   "metadata": {},
   "source": [
    "### 1.3 Custom functions"
   ]
  },
  {
   "cell_type": "code",
   "execution_count": 2,
   "metadata": {},
   "outputs": [],
   "source": [
    "def remove_stop_words(tokenized_sentence):\n",
    "    \"\"\"\n",
    "    Removes stop words from a nltk-tokenized sentence\n",
    "    \"\"\"\n",
    "    punctuation = [\".\", \",\", \"[\", \"]\", \"`\", \"(\", \")\", \n",
    "                   \"?\", \"'\", \"'s\", \":\", \"!\"]\n",
    "    stop_words = stopwords.words('english')\n",
    "    stop_words += punctuation\n",
    "    return [w for w in tokenized_sentence if w not in stop_words]"
   ]
  },
  {
   "cell_type": "code",
   "execution_count": 3,
   "metadata": {},
   "outputs": [],
   "source": [
    "def lemmatize(tokenized_sentence):\n",
    "    \"\"\"\n",
    "    Creates a lemmatizer object and lematized a nltk-tokenized \n",
    "    sentences. Might require running nltk.download('wordnet') \n",
    "    beforehand.\n",
    "    \"\"\"\n",
    "    lemmatizer = nltk.WordNetLemmatizer()\n",
    "    return [lemmatizer.lemmatize(w) for w in tokenized_sentence]"
   ]
  },
  {
   "cell_type": "code",
   "execution_count": 4,
   "metadata": {},
   "outputs": [],
   "source": [
    "# Lambda function chaining tokenize, remove_stop_words, and lemmatize\n",
    "\n",
    "sentence_processing = lambda sentence: \" \".join(\n",
    "    lemmatize(\n",
    "        remove_stop_words(\n",
    "            word_tokenize(str.lower(str(sentence)))\n",
    "        )\n",
    "    )\n",
    ")"
   ]
  },
  {
   "cell_type": "code",
   "execution_count": 5,
   "metadata": {},
   "outputs": [],
   "source": [
    "def confusion(model, X, y, title):\n",
    "    \"\"\"\n",
    "    Prints a confusion matrix of a classification model\n",
    "    \"\"\"\n",
    "    disp = plot_confusion_matrix(model, \n",
    "                                 X, \n",
    "                                 y,\n",
    "                                 cmap=plt.cm.Blues,\n",
    "                                 normalize=None)\n",
    "    disp.ax_.set_title(title)"
   ]
  },
  {
   "cell_type": "code",
   "execution_count": 6,
   "metadata": {},
   "outputs": [],
   "source": [
    "def classification_score(pred_train, pred_test, y_train, y_test):\n",
    "    \"\"\"\n",
    "    Prints the accuracy and F1 scores for train and test sets of a \n",
    "    classification model\n",
    "    \"\"\"\n",
    "    f1_score_train = f1_score(pred_train, y_train, average='weighted')\n",
    "    acc_score_train = accuracy_score(pred_train, y_train)\n",
    "    f1_score_test = f1_score(pred_test, y_test, average='weighted')\n",
    "    acc_score_test = accuracy_score(pred_test, y_test)\n",
    "    print(\"--- Train Set Scores ---\")\n",
    "    print(\"Accuracy: %.2f\" % acc_score_train)\n",
    "    print(\"F1 score: %.2f\" % f1_score_train)\n",
    "    print(\"\\n--- Test Set Scores ---\")\n",
    "    print(\"Accuracy: %.2f\" % acc_score_test)\n",
    "    print(\"F1 score: %.2f\" % f1_score_test)\n",
    "    return acc_score_train, acc_score_test, f1_score_train, f1_score_test"
   ]
  },
  {
   "cell_type": "markdown",
   "metadata": {},
   "source": [
    "## 2. Pre-processing\n",
    "\n",
    "### 2.1 Methodology\n",
    "    \n",
    "Our data pre-processing will be performed through the following steps:\n",
    " \n",
    "<u>1 - **Loading the training and testing sets**:</u>\n",
    "\n",
    "Our dataset loading will rely on a local copy of the dataset, however the code to retrieve the dataset online is also included, albeit commented out.\n",
    "\n",
    "We will also provide preliminary notes on the training and testing sets' content (e.g. number of elements, etc.).\n",
    "\n",
    "<u>2 - **Identifying the features at risk of data leakage**:</u>\n",
    "\n",
    "Based on those preliminary notes, we will look into identifying the available features (in our case columns in a DataFrame) which are at most risk of data leakage. \n",
    "\n",
    "<u>3 - **Selecting our feature variables (X) and target variable (Y)**:</u>\n",
    "\n",
    "Based on our observations, we will be performing a variable selection, identifying which columns of the imported dataset will be used for building our features (i.e. the X of the model), and which will be used to build our target variable (i.e. the Y of the model).\n",
    "\n",
    "<u>4 - **Performing pre-processing on our target variable (Y)**:</u>\n",
    "\n",
    "We will start with pre-processing our target variable by:\n",
    "\n",
    "    1. Removing NaN values (from our Y and X DataFrames)\n",
    "    \n",
    "    2. Potentially rescaling our target variable\n",
    "\n",
    "<u>5 - **Performing pre-processing on our feature variables (X)**:</u>\n",
    "\n",
    "Based on our assumption above, we will be performing the following steps as part of our feature pre-processing:\n",
    "\n",
    "    1. Highlighting remaining NaN values and deciding how to pre-process them\n",
    "\n",
    "    2. Building a LENGTH_OF_STAY and AGE features from our pre-existing data\n",
    "    \n",
    "    3. One-hot encoding the discrete features we ended up selecting\n",
    "    \n",
    "    4. Building an embedding representation of the DIAGNOSIS feature\n",
    "    \n",
    "To build our embedding for DIAGNOSIS, we will use the CountVectorizer method."
   ]
  },
  {
   "cell_type": "markdown",
   "metadata": {},
   "source": [
    "### 2.2 Data Pre-processing\n",
    "\n",
    "#### 2.2.1 - <u>Loading the training and test sets:</u>\n",
    "\n",
    "As seen below, we load the provided datasets and also create placeholder variables. These will hold the processed training and testing data so that we do not erase the original data.\n",
    "\n",
    "Given those loaded sets, our preliminary observations are the following:\n",
    "\n",
    "1. We find that the training dataset holds **2000 entries**, while the testing dataset holds **901 entries**, i.e.: \n",
    "\n",
    "    - A 69 to 31 train-test ratio\n",
    "    \n",
    "    - <u>Note:</u> A usual rule of thumb for a small dataset is to usually perform a 80 to 20 train-test split, which the current split satisfies. As such, we keep the split as-is.\n",
    "\n",
    "\n",
    "2. Several features present **NaN values**, i.e.:\n",
    "\n",
    "    - we will need to decide what to do with them after variable selection.\n",
    "\n",
    "\n",
    "3. The available features are of types **int64** or **Object**, i.e.:\n",
    "\n",
    "    - We might have to perform data-wrangling to transform the data into types usable by a machine learning model.\n",
    "\n",
    "\n",
    "4. A Bag of Word embedding for the DIAGNOSIS column has been provided:\n",
    "\n",
    "    - As seen in the [MIMIC-III Clinical Database Demo 1.4](https://physionet.org/content/mimiciii-demo/1.4/ADMISSIONS.csv), the DIAGNOSIS column corresponds to a string value that includes a list of diagnoses separated by multiple kinds of characters (e.g. ' **/** ', ' **;** ', ' **,** ', ' **-** ', etc.). \n",
    "    - The bag of words representation displays non-binary numeric (integer) values, for which we do not have much information. We could infer that it may represent some kind of importance associated with each word.\n",
    "    - Nevertheless, given the lack of information on the way the bag of words was created, **we might want to create our own word embedding representation for DIAGNOSIS, discarding the existing one**."
   ]
  },
  {
   "cell_type": "markdown",
   "metadata": {},
   "source": [
    "<hr>"
   ]
  },
  {
   "cell_type": "code",
   "execution_count": 7,
   "metadata": {},
   "outputs": [],
   "source": [
    "local_train_set_path = \"./datasets/train.csv.zip\"\n",
    "local_test_set_path = \"./datasets/test.csv.zip\"\n",
    "\n",
    "df_train = pd.read_csv(local_train_set_path)\n",
    "df_test = pd.read_csv(local_test_set_path)"
   ]
  },
  {
   "cell_type": "code",
   "execution_count": 8,
   "metadata": {},
   "outputs": [],
   "source": [
    "# comment the lines above and uncomment the lines below for retrieving the \n",
    "# dataset from the online unice repository\n",
    "\n",
    "# df_train = pd.read_csv(train_set_path)\n",
    "# df_train = pd.read_csv(test_set_path)\n",
    "\n",
    "# online_path = \n",
    "# \"http://www.i3s.unice.fr/~riveill/dataset/MIMIC-III-readmission/\"\n",
    "# train_set_path = online_path + \"train.csv.zip\"\n",
    "# test_set_path = online_path + \"test.csv.zip\""
   ]
  },
  {
   "cell_type": "code",
   "execution_count": 9,
   "metadata": {},
   "outputs": [],
   "source": [
    "X_train_without_TEXT = None\n",
    "X_test_without_TEXT = None"
   ]
  },
  {
   "cell_type": "code",
   "execution_count": 10,
   "metadata": {},
   "outputs": [],
   "source": [
    "y_train = None\n",
    "y_test = None"
   ]
  },
  {
   "cell_type": "markdown",
   "metadata": {},
   "source": [
    "<u>Preliminary information on the sets:</u>"
   ]
  },
  {
   "cell_type": "code",
   "execution_count": 11,
   "metadata": {},
   "outputs": [
    {
     "data": {
      "text/html": [
       "<div>\n",
       "<style scoped>\n",
       "    .dataframe tbody tr th:only-of-type {\n",
       "        vertical-align: middle;\n",
       "    }\n",
       "\n",
       "    .dataframe tbody tr th {\n",
       "        vertical-align: top;\n",
       "    }\n",
       "\n",
       "    .dataframe thead th {\n",
       "        text-align: right;\n",
       "    }\n",
       "</style>\n",
       "<table border=\"1\" class=\"dataframe\">\n",
       "  <thead>\n",
       "    <tr style=\"text-align: right;\">\n",
       "      <th></th>\n",
       "      <th>SUBJECT_ID</th>\n",
       "      <th>HADM_ID</th>\n",
       "      <th>DAYS_NEXT_ADMIT</th>\n",
       "      <th>blood</th>\n",
       "      <th>circulatory</th>\n",
       "      <th>congenital</th>\n",
       "      <th>digestive</th>\n",
       "      <th>endocrine</th>\n",
       "      <th>genitourinary</th>\n",
       "      <th>infectious</th>\n",
       "      <th>...</th>\n",
       "      <th>mental</th>\n",
       "      <th>misc</th>\n",
       "      <th>muscular</th>\n",
       "      <th>neoplasms</th>\n",
       "      <th>nervous</th>\n",
       "      <th>pregnancy</th>\n",
       "      <th>prenatal</th>\n",
       "      <th>respiratory</th>\n",
       "      <th>skin</th>\n",
       "      <th>OUTPUT_LABEL</th>\n",
       "    </tr>\n",
       "  </thead>\n",
       "  <tbody>\n",
       "    <tr>\n",
       "      <th>count</th>\n",
       "      <td>2000.000000</td>\n",
       "      <td>2000.000000</td>\n",
       "      <td>1210.000000</td>\n",
       "      <td>2000.000000</td>\n",
       "      <td>2000.000000</td>\n",
       "      <td>2000.000000</td>\n",
       "      <td>2000.000000</td>\n",
       "      <td>2000.000000</td>\n",
       "      <td>2000.000000</td>\n",
       "      <td>2000.000000</td>\n",
       "      <td>...</td>\n",
       "      <td>2000.000000</td>\n",
       "      <td>2000.000000</td>\n",
       "      <td>2000.000000</td>\n",
       "      <td>2000.000000</td>\n",
       "      <td>2000.000000</td>\n",
       "      <td>2000.000000</td>\n",
       "      <td>2000.000000</td>\n",
       "      <td>2000.000000</td>\n",
       "      <td>2000.000000</td>\n",
       "      <td>2000.0000</td>\n",
       "    </tr>\n",
       "    <tr>\n",
       "      <th>mean</th>\n",
       "      <td>18155.690500</td>\n",
       "      <td>150103.483000</td>\n",
       "      <td>119.883433</td>\n",
       "      <td>0.482500</td>\n",
       "      <td>2.858000</td>\n",
       "      <td>0.036000</td>\n",
       "      <td>0.747500</td>\n",
       "      <td>1.389000</td>\n",
       "      <td>0.660500</td>\n",
       "      <td>0.438500</td>\n",
       "      <td>...</td>\n",
       "      <td>0.447500</td>\n",
       "      <td>0.430500</td>\n",
       "      <td>0.216000</td>\n",
       "      <td>0.255500</td>\n",
       "      <td>0.421000</td>\n",
       "      <td>0.008000</td>\n",
       "      <td>0.119000</td>\n",
       "      <td>0.972500</td>\n",
       "      <td>0.189000</td>\n",
       "      <td>0.5050</td>\n",
       "    </tr>\n",
       "    <tr>\n",
       "      <th>std</th>\n",
       "      <td>26240.378348</td>\n",
       "      <td>29205.036893</td>\n",
       "      <td>404.753993</td>\n",
       "      <td>0.735503</td>\n",
       "      <td>2.253969</td>\n",
       "      <td>0.196783</td>\n",
       "      <td>1.179593</td>\n",
       "      <td>1.329121</td>\n",
       "      <td>0.895902</td>\n",
       "      <td>0.809658</td>\n",
       "      <td>...</td>\n",
       "      <td>0.847114</td>\n",
       "      <td>0.739894</td>\n",
       "      <td>0.544511</td>\n",
       "      <td>0.704605</td>\n",
       "      <td>0.801299</td>\n",
       "      <td>0.151484</td>\n",
       "      <td>0.376709</td>\n",
       "      <td>1.199359</td>\n",
       "      <td>0.551753</td>\n",
       "      <td>0.5001</td>\n",
       "    </tr>\n",
       "    <tr>\n",
       "      <th>min</th>\n",
       "      <td>11.000000</td>\n",
       "      <td>100095.000000</td>\n",
       "      <td>-0.602083</td>\n",
       "      <td>0.000000</td>\n",
       "      <td>0.000000</td>\n",
       "      <td>0.000000</td>\n",
       "      <td>0.000000</td>\n",
       "      <td>0.000000</td>\n",
       "      <td>0.000000</td>\n",
       "      <td>0.000000</td>\n",
       "      <td>...</td>\n",
       "      <td>0.000000</td>\n",
       "      <td>0.000000</td>\n",
       "      <td>0.000000</td>\n",
       "      <td>0.000000</td>\n",
       "      <td>0.000000</td>\n",
       "      <td>0.000000</td>\n",
       "      <td>0.000000</td>\n",
       "      <td>0.000000</td>\n",
       "      <td>0.000000</td>\n",
       "      <td>0.0000</td>\n",
       "    </tr>\n",
       "    <tr>\n",
       "      <th>25%</th>\n",
       "      <td>1490.500000</td>\n",
       "      <td>124979.500000</td>\n",
       "      <td>5.383333</td>\n",
       "      <td>0.000000</td>\n",
       "      <td>1.000000</td>\n",
       "      <td>0.000000</td>\n",
       "      <td>0.000000</td>\n",
       "      <td>0.000000</td>\n",
       "      <td>0.000000</td>\n",
       "      <td>0.000000</td>\n",
       "      <td>...</td>\n",
       "      <td>0.000000</td>\n",
       "      <td>0.000000</td>\n",
       "      <td>0.000000</td>\n",
       "      <td>0.000000</td>\n",
       "      <td>0.000000</td>\n",
       "      <td>0.000000</td>\n",
       "      <td>0.000000</td>\n",
       "      <td>0.000000</td>\n",
       "      <td>0.000000</td>\n",
       "      <td>0.0000</td>\n",
       "    </tr>\n",
       "    <tr>\n",
       "      <th>50%</th>\n",
       "      <td>3103.500000</td>\n",
       "      <td>150743.500000</td>\n",
       "      <td>13.219792</td>\n",
       "      <td>0.000000</td>\n",
       "      <td>3.000000</td>\n",
       "      <td>0.000000</td>\n",
       "      <td>0.000000</td>\n",
       "      <td>1.000000</td>\n",
       "      <td>0.000000</td>\n",
       "      <td>0.000000</td>\n",
       "      <td>...</td>\n",
       "      <td>0.000000</td>\n",
       "      <td>0.000000</td>\n",
       "      <td>0.000000</td>\n",
       "      <td>0.000000</td>\n",
       "      <td>0.000000</td>\n",
       "      <td>0.000000</td>\n",
       "      <td>0.000000</td>\n",
       "      <td>1.000000</td>\n",
       "      <td>0.000000</td>\n",
       "      <td>1.0000</td>\n",
       "    </tr>\n",
       "    <tr>\n",
       "      <th>75%</th>\n",
       "      <td>25072.750000</td>\n",
       "      <td>174570.750000</td>\n",
       "      <td>25.327951</td>\n",
       "      <td>1.000000</td>\n",
       "      <td>4.000000</td>\n",
       "      <td>0.000000</td>\n",
       "      <td>1.000000</td>\n",
       "      <td>2.000000</td>\n",
       "      <td>1.000000</td>\n",
       "      <td>1.000000</td>\n",
       "      <td>...</td>\n",
       "      <td>1.000000</td>\n",
       "      <td>1.000000</td>\n",
       "      <td>0.000000</td>\n",
       "      <td>0.000000</td>\n",
       "      <td>1.000000</td>\n",
       "      <td>0.000000</td>\n",
       "      <td>0.000000</td>\n",
       "      <td>2.000000</td>\n",
       "      <td>0.000000</td>\n",
       "      <td>1.0000</td>\n",
       "    </tr>\n",
       "    <tr>\n",
       "      <th>max</th>\n",
       "      <td>99562.000000</td>\n",
       "      <td>199955.000000</td>\n",
       "      <td>3867.977778</td>\n",
       "      <td>5.000000</td>\n",
       "      <td>13.000000</td>\n",
       "      <td>2.000000</td>\n",
       "      <td>9.000000</td>\n",
       "      <td>10.000000</td>\n",
       "      <td>4.000000</td>\n",
       "      <td>7.000000</td>\n",
       "      <td>...</td>\n",
       "      <td>9.000000</td>\n",
       "      <td>5.000000</td>\n",
       "      <td>5.000000</td>\n",
       "      <td>8.000000</td>\n",
       "      <td>7.000000</td>\n",
       "      <td>4.000000</td>\n",
       "      <td>5.000000</td>\n",
       "      <td>6.000000</td>\n",
       "      <td>6.000000</td>\n",
       "      <td>1.0000</td>\n",
       "    </tr>\n",
       "  </tbody>\n",
       "</table>\n",
       "<p>8 rows × 21 columns</p>\n",
       "</div>"
      ],
      "text/plain": [
       "         SUBJECT_ID        HADM_ID  DAYS_NEXT_ADMIT        blood  circulatory  \\\n",
       "count   2000.000000    2000.000000      1210.000000  2000.000000  2000.000000   \n",
       "mean   18155.690500  150103.483000       119.883433     0.482500     2.858000   \n",
       "std    26240.378348   29205.036893       404.753993     0.735503     2.253969   \n",
       "min       11.000000  100095.000000        -0.602083     0.000000     0.000000   \n",
       "25%     1490.500000  124979.500000         5.383333     0.000000     1.000000   \n",
       "50%     3103.500000  150743.500000        13.219792     0.000000     3.000000   \n",
       "75%    25072.750000  174570.750000        25.327951     1.000000     4.000000   \n",
       "max    99562.000000  199955.000000      3867.977778     5.000000    13.000000   \n",
       "\n",
       "        congenital    digestive    endocrine  genitourinary   infectious  ...  \\\n",
       "count  2000.000000  2000.000000  2000.000000    2000.000000  2000.000000  ...   \n",
       "mean      0.036000     0.747500     1.389000       0.660500     0.438500  ...   \n",
       "std       0.196783     1.179593     1.329121       0.895902     0.809658  ...   \n",
       "min       0.000000     0.000000     0.000000       0.000000     0.000000  ...   \n",
       "25%       0.000000     0.000000     0.000000       0.000000     0.000000  ...   \n",
       "50%       0.000000     0.000000     1.000000       0.000000     0.000000  ...   \n",
       "75%       0.000000     1.000000     2.000000       1.000000     1.000000  ...   \n",
       "max       2.000000     9.000000    10.000000       4.000000     7.000000  ...   \n",
       "\n",
       "            mental         misc     muscular    neoplasms      nervous  \\\n",
       "count  2000.000000  2000.000000  2000.000000  2000.000000  2000.000000   \n",
       "mean      0.447500     0.430500     0.216000     0.255500     0.421000   \n",
       "std       0.847114     0.739894     0.544511     0.704605     0.801299   \n",
       "min       0.000000     0.000000     0.000000     0.000000     0.000000   \n",
       "25%       0.000000     0.000000     0.000000     0.000000     0.000000   \n",
       "50%       0.000000     0.000000     0.000000     0.000000     0.000000   \n",
       "75%       1.000000     1.000000     0.000000     0.000000     1.000000   \n",
       "max       9.000000     5.000000     5.000000     8.000000     7.000000   \n",
       "\n",
       "         pregnancy     prenatal  respiratory         skin  OUTPUT_LABEL  \n",
       "count  2000.000000  2000.000000  2000.000000  2000.000000     2000.0000  \n",
       "mean      0.008000     0.119000     0.972500     0.189000        0.5050  \n",
       "std       0.151484     0.376709     1.199359     0.551753        0.5001  \n",
       "min       0.000000     0.000000     0.000000     0.000000        0.0000  \n",
       "25%       0.000000     0.000000     0.000000     0.000000        0.0000  \n",
       "50%       0.000000     0.000000     1.000000     0.000000        1.0000  \n",
       "75%       0.000000     0.000000     2.000000     0.000000        1.0000  \n",
       "max       4.000000     5.000000     6.000000     6.000000        1.0000  \n",
       "\n",
       "[8 rows x 21 columns]"
      ]
     },
     "execution_count": 11,
     "metadata": {},
     "output_type": "execute_result"
    }
   ],
   "source": [
    "df_train.describe()"
   ]
  },
  {
   "cell_type": "code",
   "execution_count": 12,
   "metadata": {},
   "outputs": [
    {
     "data": {
      "text/html": [
       "<div>\n",
       "<style scoped>\n",
       "    .dataframe tbody tr th:only-of-type {\n",
       "        vertical-align: middle;\n",
       "    }\n",
       "\n",
       "    .dataframe tbody tr th {\n",
       "        vertical-align: top;\n",
       "    }\n",
       "\n",
       "    .dataframe thead th {\n",
       "        text-align: right;\n",
       "    }\n",
       "</style>\n",
       "<table border=\"1\" class=\"dataframe\">\n",
       "  <thead>\n",
       "    <tr style=\"text-align: right;\">\n",
       "      <th></th>\n",
       "      <th>SUBJECT_ID</th>\n",
       "      <th>HADM_ID</th>\n",
       "      <th>DAYS_NEXT_ADMIT</th>\n",
       "      <th>blood</th>\n",
       "      <th>circulatory</th>\n",
       "      <th>congenital</th>\n",
       "      <th>digestive</th>\n",
       "      <th>endocrine</th>\n",
       "      <th>genitourinary</th>\n",
       "      <th>infectious</th>\n",
       "      <th>...</th>\n",
       "      <th>mental</th>\n",
       "      <th>misc</th>\n",
       "      <th>muscular</th>\n",
       "      <th>neoplasms</th>\n",
       "      <th>nervous</th>\n",
       "      <th>pregnancy</th>\n",
       "      <th>prenatal</th>\n",
       "      <th>respiratory</th>\n",
       "      <th>skin</th>\n",
       "      <th>OUTPUT_LABEL</th>\n",
       "    </tr>\n",
       "  </thead>\n",
       "  <tbody>\n",
       "    <tr>\n",
       "      <th>count</th>\n",
       "      <td>901.000000</td>\n",
       "      <td>901.000000</td>\n",
       "      <td>526.000000</td>\n",
       "      <td>901.000000</td>\n",
       "      <td>901.000000</td>\n",
       "      <td>901.000000</td>\n",
       "      <td>901.000000</td>\n",
       "      <td>901.000000</td>\n",
       "      <td>901.000000</td>\n",
       "      <td>901.000000</td>\n",
       "      <td>...</td>\n",
       "      <td>901.000000</td>\n",
       "      <td>901.000000</td>\n",
       "      <td>901.000000</td>\n",
       "      <td>901.000000</td>\n",
       "      <td>901.000000</td>\n",
       "      <td>901.000000</td>\n",
       "      <td>901.000000</td>\n",
       "      <td>901.000000</td>\n",
       "      <td>901.000000</td>\n",
       "      <td>901.000000</td>\n",
       "    </tr>\n",
       "    <tr>\n",
       "      <th>mean</th>\n",
       "      <td>18306.197558</td>\n",
       "      <td>149172.830189</td>\n",
       "      <td>84.578517</td>\n",
       "      <td>0.466149</td>\n",
       "      <td>2.817980</td>\n",
       "      <td>0.044395</td>\n",
       "      <td>0.728080</td>\n",
       "      <td>1.372919</td>\n",
       "      <td>0.700333</td>\n",
       "      <td>0.468368</td>\n",
       "      <td>...</td>\n",
       "      <td>0.468368</td>\n",
       "      <td>0.436182</td>\n",
       "      <td>0.201998</td>\n",
       "      <td>0.243063</td>\n",
       "      <td>0.440622</td>\n",
       "      <td>0.015538</td>\n",
       "      <td>0.119867</td>\n",
       "      <td>0.931188</td>\n",
       "      <td>0.241953</td>\n",
       "      <td>0.503885</td>\n",
       "    </tr>\n",
       "    <tr>\n",
       "      <th>std</th>\n",
       "      <td>26349.689656</td>\n",
       "      <td>29115.501914</td>\n",
       "      <td>304.437951</td>\n",
       "      <td>0.691390</td>\n",
       "      <td>2.256878</td>\n",
       "      <td>0.231479</td>\n",
       "      <td>1.165418</td>\n",
       "      <td>1.406611</td>\n",
       "      <td>0.944628</td>\n",
       "      <td>0.804397</td>\n",
       "      <td>...</td>\n",
       "      <td>0.919147</td>\n",
       "      <td>0.752463</td>\n",
       "      <td>0.538760</td>\n",
       "      <td>0.682942</td>\n",
       "      <td>0.784625</td>\n",
       "      <td>0.253383</td>\n",
       "      <td>0.354423</td>\n",
       "      <td>1.184030</td>\n",
       "      <td>0.624726</td>\n",
       "      <td>0.500263</td>\n",
       "    </tr>\n",
       "    <tr>\n",
       "      <th>min</th>\n",
       "      <td>6.000000</td>\n",
       "      <td>100039.000000</td>\n",
       "      <td>-0.454167</td>\n",
       "      <td>0.000000</td>\n",
       "      <td>0.000000</td>\n",
       "      <td>0.000000</td>\n",
       "      <td>0.000000</td>\n",
       "      <td>0.000000</td>\n",
       "      <td>0.000000</td>\n",
       "      <td>0.000000</td>\n",
       "      <td>...</td>\n",
       "      <td>0.000000</td>\n",
       "      <td>0.000000</td>\n",
       "      <td>0.000000</td>\n",
       "      <td>0.000000</td>\n",
       "      <td>0.000000</td>\n",
       "      <td>0.000000</td>\n",
       "      <td>0.000000</td>\n",
       "      <td>0.000000</td>\n",
       "      <td>0.000000</td>\n",
       "      <td>0.000000</td>\n",
       "    </tr>\n",
       "    <tr>\n",
       "      <th>25%</th>\n",
       "      <td>1521.000000</td>\n",
       "      <td>123423.000000</td>\n",
       "      <td>5.100868</td>\n",
       "      <td>0.000000</td>\n",
       "      <td>1.000000</td>\n",
       "      <td>0.000000</td>\n",
       "      <td>0.000000</td>\n",
       "      <td>0.000000</td>\n",
       "      <td>0.000000</td>\n",
       "      <td>0.000000</td>\n",
       "      <td>...</td>\n",
       "      <td>0.000000</td>\n",
       "      <td>0.000000</td>\n",
       "      <td>0.000000</td>\n",
       "      <td>0.000000</td>\n",
       "      <td>0.000000</td>\n",
       "      <td>0.000000</td>\n",
       "      <td>0.000000</td>\n",
       "      <td>0.000000</td>\n",
       "      <td>0.000000</td>\n",
       "      <td>0.000000</td>\n",
       "    </tr>\n",
       "    <tr>\n",
       "      <th>50%</th>\n",
       "      <td>3176.000000</td>\n",
       "      <td>147718.000000</td>\n",
       "      <td>11.302431</td>\n",
       "      <td>0.000000</td>\n",
       "      <td>2.000000</td>\n",
       "      <td>0.000000</td>\n",
       "      <td>0.000000</td>\n",
       "      <td>1.000000</td>\n",
       "      <td>0.000000</td>\n",
       "      <td>0.000000</td>\n",
       "      <td>...</td>\n",
       "      <td>0.000000</td>\n",
       "      <td>0.000000</td>\n",
       "      <td>0.000000</td>\n",
       "      <td>0.000000</td>\n",
       "      <td>0.000000</td>\n",
       "      <td>0.000000</td>\n",
       "      <td>0.000000</td>\n",
       "      <td>1.000000</td>\n",
       "      <td>0.000000</td>\n",
       "      <td>1.000000</td>\n",
       "    </tr>\n",
       "    <tr>\n",
       "      <th>75%</th>\n",
       "      <td>25256.000000</td>\n",
       "      <td>174749.000000</td>\n",
       "      <td>22.211632</td>\n",
       "      <td>1.000000</td>\n",
       "      <td>4.000000</td>\n",
       "      <td>0.000000</td>\n",
       "      <td>1.000000</td>\n",
       "      <td>2.000000</td>\n",
       "      <td>1.000000</td>\n",
       "      <td>1.000000</td>\n",
       "      <td>...</td>\n",
       "      <td>1.000000</td>\n",
       "      <td>1.000000</td>\n",
       "      <td>0.000000</td>\n",
       "      <td>0.000000</td>\n",
       "      <td>1.000000</td>\n",
       "      <td>0.000000</td>\n",
       "      <td>0.000000</td>\n",
       "      <td>2.000000</td>\n",
       "      <td>0.000000</td>\n",
       "      <td>1.000000</td>\n",
       "    </tr>\n",
       "    <tr>\n",
       "      <th>max</th>\n",
       "      <td>99982.000000</td>\n",
       "      <td>199807.000000</td>\n",
       "      <td>3543.101389</td>\n",
       "      <td>4.000000</td>\n",
       "      <td>12.000000</td>\n",
       "      <td>2.000000</td>\n",
       "      <td>7.000000</td>\n",
       "      <td>7.000000</td>\n",
       "      <td>5.000000</td>\n",
       "      <td>7.000000</td>\n",
       "      <td>...</td>\n",
       "      <td>6.000000</td>\n",
       "      <td>5.000000</td>\n",
       "      <td>5.000000</td>\n",
       "      <td>5.000000</td>\n",
       "      <td>4.000000</td>\n",
       "      <td>5.000000</td>\n",
       "      <td>3.000000</td>\n",
       "      <td>7.000000</td>\n",
       "      <td>6.000000</td>\n",
       "      <td>1.000000</td>\n",
       "    </tr>\n",
       "  </tbody>\n",
       "</table>\n",
       "<p>8 rows × 21 columns</p>\n",
       "</div>"
      ],
      "text/plain": [
       "         SUBJECT_ID        HADM_ID  DAYS_NEXT_ADMIT       blood  circulatory  \\\n",
       "count    901.000000     901.000000       526.000000  901.000000   901.000000   \n",
       "mean   18306.197558  149172.830189        84.578517    0.466149     2.817980   \n",
       "std    26349.689656   29115.501914       304.437951    0.691390     2.256878   \n",
       "min        6.000000  100039.000000        -0.454167    0.000000     0.000000   \n",
       "25%     1521.000000  123423.000000         5.100868    0.000000     1.000000   \n",
       "50%     3176.000000  147718.000000        11.302431    0.000000     2.000000   \n",
       "75%    25256.000000  174749.000000        22.211632    1.000000     4.000000   \n",
       "max    99982.000000  199807.000000      3543.101389    4.000000    12.000000   \n",
       "\n",
       "       congenital   digestive   endocrine  genitourinary  infectious  ...  \\\n",
       "count  901.000000  901.000000  901.000000     901.000000  901.000000  ...   \n",
       "mean     0.044395    0.728080    1.372919       0.700333    0.468368  ...   \n",
       "std      0.231479    1.165418    1.406611       0.944628    0.804397  ...   \n",
       "min      0.000000    0.000000    0.000000       0.000000    0.000000  ...   \n",
       "25%      0.000000    0.000000    0.000000       0.000000    0.000000  ...   \n",
       "50%      0.000000    0.000000    1.000000       0.000000    0.000000  ...   \n",
       "75%      0.000000    1.000000    2.000000       1.000000    1.000000  ...   \n",
       "max      2.000000    7.000000    7.000000       5.000000    7.000000  ...   \n",
       "\n",
       "           mental        misc    muscular   neoplasms     nervous   pregnancy  \\\n",
       "count  901.000000  901.000000  901.000000  901.000000  901.000000  901.000000   \n",
       "mean     0.468368    0.436182    0.201998    0.243063    0.440622    0.015538   \n",
       "std      0.919147    0.752463    0.538760    0.682942    0.784625    0.253383   \n",
       "min      0.000000    0.000000    0.000000    0.000000    0.000000    0.000000   \n",
       "25%      0.000000    0.000000    0.000000    0.000000    0.000000    0.000000   \n",
       "50%      0.000000    0.000000    0.000000    0.000000    0.000000    0.000000   \n",
       "75%      1.000000    1.000000    0.000000    0.000000    1.000000    0.000000   \n",
       "max      6.000000    5.000000    5.000000    5.000000    4.000000    5.000000   \n",
       "\n",
       "         prenatal  respiratory        skin  OUTPUT_LABEL  \n",
       "count  901.000000   901.000000  901.000000    901.000000  \n",
       "mean     0.119867     0.931188    0.241953      0.503885  \n",
       "std      0.354423     1.184030    0.624726      0.500263  \n",
       "min      0.000000     0.000000    0.000000      0.000000  \n",
       "25%      0.000000     0.000000    0.000000      0.000000  \n",
       "50%      0.000000     1.000000    0.000000      1.000000  \n",
       "75%      0.000000     2.000000    0.000000      1.000000  \n",
       "max      3.000000     7.000000    6.000000      1.000000  \n",
       "\n",
       "[8 rows x 21 columns]"
      ]
     },
     "execution_count": 12,
     "metadata": {},
     "output_type": "execute_result"
    }
   ],
   "source": [
    "df_test.describe()"
   ]
  },
  {
   "cell_type": "code",
   "execution_count": 13,
   "metadata": {},
   "outputs": [
    {
     "name": "stdout",
     "output_type": "stream",
     "text": [
      "SUBJECT_ID               0\n",
      "HADM_ID                  0\n",
      "ADMITTIME                0\n",
      "DISCHTIME                0\n",
      "DAYS_NEXT_ADMIT        790\n",
      "NEXT_ADMITTIME         790\n",
      "ADMISSION_TYPE           0\n",
      "DEATHTIME             1842\n",
      "DISCHARGE_LOCATION       0\n",
      "INSURANCE                0\n",
      "MARITAL_STATUS          76\n",
      "ETHNICITY                0\n",
      "DIAGNOSIS                2\n",
      "TEXT                    75\n",
      "GENDER                   0\n",
      "DOB                      0\n",
      "blood                    0\n",
      "circulatory              0\n",
      "congenital               0\n",
      "digestive                0\n",
      "endocrine                0\n",
      "genitourinary            0\n",
      "infectious               0\n",
      "injury                   0\n",
      "mental                   0\n",
      "misc                     0\n",
      "muscular                 0\n",
      "neoplasms                0\n",
      "nervous                  0\n",
      "pregnancy                0\n",
      "prenatal                 0\n",
      "respiratory              0\n",
      "skin                     0\n",
      "OUTPUT_LABEL             0\n",
      "dtype: int64\n",
      "\n",
      "SUBJECT_ID              0\n",
      "HADM_ID                 0\n",
      "ADMITTIME               0\n",
      "DISCHTIME               0\n",
      "DAYS_NEXT_ADMIT       375\n",
      "NEXT_ADMITTIME        375\n",
      "ADMISSION_TYPE          0\n",
      "DEATHTIME             843\n",
      "DISCHARGE_LOCATION      0\n",
      "INSURANCE               0\n",
      "MARITAL_STATUS         40\n",
      "ETHNICITY               0\n",
      "DIAGNOSIS               0\n",
      "TEXT                   30\n",
      "GENDER                  0\n",
      "DOB                     0\n",
      "blood                   0\n",
      "circulatory             0\n",
      "congenital              0\n",
      "digestive               0\n",
      "endocrine               0\n",
      "genitourinary           0\n",
      "infectious              0\n",
      "injury                  0\n",
      "mental                  0\n",
      "misc                    0\n",
      "muscular                0\n",
      "neoplasms               0\n",
      "nervous                 0\n",
      "pregnancy               0\n",
      "prenatal                0\n",
      "respiratory             0\n",
      "skin                    0\n",
      "OUTPUT_LABEL            0\n",
      "dtype: int64\n"
     ]
    }
   ],
   "source": [
    "# We find that only the columns MARITAL_STATUS and DIAGNOSIS have NaN values \n",
    "# in both the training and testing dataset.\n",
    "\n",
    "print(df_train.isnull().sum(),\n",
    "      df_test.isnull().sum(),\n",
    "      sep=\"\\n\\n\")"
   ]
  },
  {
   "cell_type": "code",
   "execution_count": 14,
   "metadata": {},
   "outputs": [
    {
     "name": "stdout",
     "output_type": "stream",
     "text": [
      "<class 'pandas.core.frame.DataFrame'>\n",
      "RangeIndex: 2000 entries, 0 to 1999\n",
      "Data columns (total 34 columns):\n",
      " #   Column              Non-Null Count  Dtype  \n",
      "---  ------              --------------  -----  \n",
      " 0   SUBJECT_ID          2000 non-null   int64  \n",
      " 1   HADM_ID             2000 non-null   int64  \n",
      " 2   ADMITTIME           2000 non-null   object \n",
      " 3   DISCHTIME           2000 non-null   object \n",
      " 4   DAYS_NEXT_ADMIT     1210 non-null   float64\n",
      " 5   NEXT_ADMITTIME      1210 non-null   object \n",
      " 6   ADMISSION_TYPE      2000 non-null   object \n",
      " 7   DEATHTIME           158 non-null    object \n",
      " 8   DISCHARGE_LOCATION  2000 non-null   object \n",
      " 9   INSURANCE           2000 non-null   object \n",
      " 10  MARITAL_STATUS      1924 non-null   object \n",
      " 11  ETHNICITY           2000 non-null   object \n",
      " 12  DIAGNOSIS           1998 non-null   object \n",
      " 13  TEXT                1925 non-null   object \n",
      " 14  GENDER              2000 non-null   object \n",
      " 15  DOB                 2000 non-null   object \n",
      " 16  blood               2000 non-null   int64  \n",
      " 17  circulatory         2000 non-null   int64  \n",
      " 18  congenital          2000 non-null   int64  \n",
      " 19  digestive           2000 non-null   int64  \n",
      " 20  endocrine           2000 non-null   int64  \n",
      " 21  genitourinary       2000 non-null   int64  \n",
      " 22  infectious          2000 non-null   int64  \n",
      " 23  injury              2000 non-null   int64  \n",
      " 24  mental              2000 non-null   int64  \n",
      " 25  misc                2000 non-null   int64  \n",
      " 26  muscular            2000 non-null   int64  \n",
      " 27  neoplasms           2000 non-null   int64  \n",
      " 28  nervous             2000 non-null   int64  \n",
      " 29  pregnancy           2000 non-null   int64  \n",
      " 30  prenatal            2000 non-null   int64  \n",
      " 31  respiratory         2000 non-null   int64  \n",
      " 32  skin                2000 non-null   int64  \n",
      " 33  OUTPUT_LABEL        2000 non-null   int64  \n",
      "dtypes: float64(1), int64(20), object(13)\n",
      "memory usage: 531.4+ KB\n"
     ]
    }
   ],
   "source": [
    "df_train.info()"
   ]
  },
  {
   "cell_type": "code",
   "execution_count": 15,
   "metadata": {
    "scrolled": false
   },
   "outputs": [
    {
     "name": "stdout",
     "output_type": "stream",
     "text": [
      "<class 'pandas.core.frame.DataFrame'>\n",
      "RangeIndex: 901 entries, 0 to 900\n",
      "Data columns (total 34 columns):\n",
      " #   Column              Non-Null Count  Dtype  \n",
      "---  ------              --------------  -----  \n",
      " 0   SUBJECT_ID          901 non-null    int64  \n",
      " 1   HADM_ID             901 non-null    int64  \n",
      " 2   ADMITTIME           901 non-null    object \n",
      " 3   DISCHTIME           901 non-null    object \n",
      " 4   DAYS_NEXT_ADMIT     526 non-null    float64\n",
      " 5   NEXT_ADMITTIME      526 non-null    object \n",
      " 6   ADMISSION_TYPE      901 non-null    object \n",
      " 7   DEATHTIME           58 non-null     object \n",
      " 8   DISCHARGE_LOCATION  901 non-null    object \n",
      " 9   INSURANCE           901 non-null    object \n",
      " 10  MARITAL_STATUS      861 non-null    object \n",
      " 11  ETHNICITY           901 non-null    object \n",
      " 12  DIAGNOSIS           901 non-null    object \n",
      " 13  TEXT                871 non-null    object \n",
      " 14  GENDER              901 non-null    object \n",
      " 15  DOB                 901 non-null    object \n",
      " 16  blood               901 non-null    int64  \n",
      " 17  circulatory         901 non-null    int64  \n",
      " 18  congenital          901 non-null    int64  \n",
      " 19  digestive           901 non-null    int64  \n",
      " 20  endocrine           901 non-null    int64  \n",
      " 21  genitourinary       901 non-null    int64  \n",
      " 22  infectious          901 non-null    int64  \n",
      " 23  injury              901 non-null    int64  \n",
      " 24  mental              901 non-null    int64  \n",
      " 25  misc                901 non-null    int64  \n",
      " 26  muscular            901 non-null    int64  \n",
      " 27  neoplasms           901 non-null    int64  \n",
      " 28  nervous             901 non-null    int64  \n",
      " 29  pregnancy           901 non-null    int64  \n",
      " 30  prenatal            901 non-null    int64  \n",
      " 31  respiratory         901 non-null    int64  \n",
      " 32  skin                901 non-null    int64  \n",
      " 33  OUTPUT_LABEL        901 non-null    int64  \n",
      "dtypes: float64(1), int64(20), object(13)\n",
      "memory usage: 239.5+ KB\n"
     ]
    }
   ],
   "source": [
    "df_test.info()"
   ]
  },
  {
   "cell_type": "markdown",
   "metadata": {},
   "source": [
    "<hr>\n",
    "\n",
    "#### 2.2.2 - <u>Identifying the features at risk of data leakage:</u>\n",
    "\n",
    "We need to look into identifying the available features (in our case columns in a DataFrame) which are at most risk of data leakage. We focus on two cases:\n",
    "\n",
    "    1. Mismatched entries related to a single patient\n",
    "    \n",
    "Indeed, it is possible that a single patient (i.e. a single SUBJECT_ID) has multiple entries in the dataset. Based on the [information provided by the repository for the MIMIC dataset](https://mimic.physionet.org/mimictables/admissions/), HADM_ID represents a single patient’s admission(s) to the hospital and SUBJECT_ID represents a single patient.\n",
    "    \n",
    "    2. Data leakage between a potential target variable and potential feature variables\n",
    "\n",
    "Indeed, some features leak information about a potential target variable. For instance, we see that DISCHARGE_LOCATION and TEXT hold important data with regards to the outcome of the patient's stay.\n",
    "\n",
    "To highlight those risks, we provide the three following examples (including code in the cells below):\n",
    "\n",
    "**Patient (SUBJECT_ID) 17 (see code below)**:\n",
    "\n",
    "By looking at the number of times a single patient has been admitted to the hospital, we want to find whether a single patient may have been admitted more than once and whether it is reflected in the dataset. \n",
    "\n",
    "    - We find that patients have been admitted up to 15 times in the training set.\n",
    "    \n",
    "As an example, the patient 17 has been admitted twice.\n",
    "\n",
    "**Patient (SUBJECT_ID) 808 (see code below)**:\n",
    "\n",
    "We see that patient 808 has three referenced admissions but the last record mentions a readmission date that is not referenced in the dataset. The admit times are also mismatched. \n",
    "\n",
    "    - There are 3 admissions with each showing a next admission time, implying at least \n",
    "    one admission is missing from the dataset.\n",
    "\n",
    "**Patient (SUBJECT_ID) 937 (see code below)**:\n",
    "\n",
    "As part of our data leakage check, we want to check whether patients have a number of rows equal to the number of admissions mentioned in the related data (i.e. we would expect a patient with 1 readmission to have two lines in the dataset). Furthermore, we want to see if potential feature columns reference potential target data. We find that:\n",
    "\n",
    "    - Some patients have a mismatch between the number of mentioned readmission dates and \n",
    "    the number of lines associated to their ID.\n",
    "    \n",
    "We can interpret this fact as such: The dataset cannot be understood as a time series. As such, each row (and their potential readmission) should be construed as independent from other rows. This implies that, in terms of data leakage, we should individualize each row in a way that no two rows can be linked to each other (independence).\n",
    "\n",
    "We find that patient 937 has been admitted twice but has only one single record in the training dataset. \n",
    "    \n",
    "    - Some columns, such as DISCHARGE_LOCATION and TEXT, hold important data with regards \n",
    "    to the outcome of the patient's stay\n",
    "\n",
    "Furthermore, some features leak information about a potential target variable. \n",
    "\n",
    "Indeed, we see, for patient 937, that DISCHARGE_LOCATION and TEXT hold important data with regards to the outcome of the patient's stay. However, since this data seems mostly related to the death of the patient, and that results in a NaN value for the number of days to the next re-hospitalization, we know that this row will not be included in our dataset (as per the assumption on the target variable made in the previous part of this report).\n",
    "\n",
    "<hr>"
   ]
  },
  {
   "cell_type": "markdown",
   "metadata": {},
   "source": [
    "<u>Patient 17:</u>"
   ]
  },
  {
   "cell_type": "code",
   "execution_count": 16,
   "metadata": {},
   "outputs": [
    {
     "data": {
      "text/plain": [
       "array([ 1,  2, 15,  3,  5,  4,  6,  8])"
      ]
     },
     "execution_count": 16,
     "metadata": {},
     "output_type": "execute_result"
    }
   ],
   "source": [
    "df_train.pivot_table(index = ['SUBJECT_ID'], aggfunc ='size').unique()"
   ]
  },
  {
   "cell_type": "code",
   "execution_count": 17,
   "metadata": {},
   "outputs": [
    {
     "name": "stdout",
     "output_type": "stream",
     "text": [
      "SUBJECT_ID\n",
      "11    1\n",
      "17    2\n",
      "dtype: int64\n"
     ]
    },
    {
     "data": {
      "text/html": [
       "<div>\n",
       "<style scoped>\n",
       "    .dataframe tbody tr th:only-of-type {\n",
       "        vertical-align: middle;\n",
       "    }\n",
       "\n",
       "    .dataframe tbody tr th {\n",
       "        vertical-align: top;\n",
       "    }\n",
       "\n",
       "    .dataframe thead th {\n",
       "        text-align: right;\n",
       "    }\n",
       "</style>\n",
       "<table border=\"1\" class=\"dataframe\">\n",
       "  <thead>\n",
       "    <tr style=\"text-align: right;\">\n",
       "      <th></th>\n",
       "      <th>SUBJECT_ID</th>\n",
       "      <th>HADM_ID</th>\n",
       "      <th>ADMITTIME</th>\n",
       "      <th>DISCHTIME</th>\n",
       "      <th>DAYS_NEXT_ADMIT</th>\n",
       "      <th>NEXT_ADMITTIME</th>\n",
       "      <th>ADMISSION_TYPE</th>\n",
       "      <th>DEATHTIME</th>\n",
       "      <th>DISCHARGE_LOCATION</th>\n",
       "      <th>INSURANCE</th>\n",
       "      <th>...</th>\n",
       "      <th>mental</th>\n",
       "      <th>misc</th>\n",
       "      <th>muscular</th>\n",
       "      <th>neoplasms</th>\n",
       "      <th>nervous</th>\n",
       "      <th>pregnancy</th>\n",
       "      <th>prenatal</th>\n",
       "      <th>respiratory</th>\n",
       "      <th>skin</th>\n",
       "      <th>OUTPUT_LABEL</th>\n",
       "    </tr>\n",
       "  </thead>\n",
       "  <tbody>\n",
       "    <tr>\n",
       "      <th>1182</th>\n",
       "      <td>17</td>\n",
       "      <td>161087</td>\n",
       "      <td>2135-05-09 14:11:00</td>\n",
       "      <td>2135-05-13 14:40:00</td>\n",
       "      <td>NaN</td>\n",
       "      <td>NaN</td>\n",
       "      <td>EMERGENCY</td>\n",
       "      <td>NaN</td>\n",
       "      <td>HOME HEALTH CARE</td>\n",
       "      <td>Private</td>\n",
       "      <td>...</td>\n",
       "      <td>1</td>\n",
       "      <td>1</td>\n",
       "      <td>2</td>\n",
       "      <td>0</td>\n",
       "      <td>0</td>\n",
       "      <td>0</td>\n",
       "      <td>0</td>\n",
       "      <td>1</td>\n",
       "      <td>0</td>\n",
       "      <td>0</td>\n",
       "    </tr>\n",
       "    <tr>\n",
       "      <th>1710</th>\n",
       "      <td>17</td>\n",
       "      <td>194023</td>\n",
       "      <td>2134-12-27 07:15:00</td>\n",
       "      <td>2134-12-31 16:05:00</td>\n",
       "      <td>128.920833</td>\n",
       "      <td>2135-05-09 14:11:00</td>\n",
       "      <td>ELECTIVE</td>\n",
       "      <td>NaN</td>\n",
       "      <td>HOME HEALTH CARE</td>\n",
       "      <td>Private</td>\n",
       "      <td>...</td>\n",
       "      <td>0</td>\n",
       "      <td>0</td>\n",
       "      <td>0</td>\n",
       "      <td>0</td>\n",
       "      <td>0</td>\n",
       "      <td>0</td>\n",
       "      <td>0</td>\n",
       "      <td>0</td>\n",
       "      <td>0</td>\n",
       "      <td>0</td>\n",
       "    </tr>\n",
       "  </tbody>\n",
       "</table>\n",
       "<p>2 rows × 34 columns</p>\n",
       "</div>"
      ],
      "text/plain": [
       "      SUBJECT_ID  HADM_ID            ADMITTIME            DISCHTIME  \\\n",
       "1182          17   161087  2135-05-09 14:11:00  2135-05-13 14:40:00   \n",
       "1710          17   194023  2134-12-27 07:15:00  2134-12-31 16:05:00   \n",
       "\n",
       "      DAYS_NEXT_ADMIT       NEXT_ADMITTIME ADMISSION_TYPE DEATHTIME  \\\n",
       "1182              NaN                  NaN      EMERGENCY       NaN   \n",
       "1710       128.920833  2135-05-09 14:11:00       ELECTIVE       NaN   \n",
       "\n",
       "     DISCHARGE_LOCATION INSURANCE  ... mental misc muscular neoplasms nervous  \\\n",
       "1182   HOME HEALTH CARE   Private  ...      1    1        2         0       0   \n",
       "1710   HOME HEALTH CARE   Private  ...      0    0        0         0       0   \n",
       "\n",
       "     pregnancy  prenatal  respiratory  skin  OUTPUT_LABEL  \n",
       "1182         0         0            1     0             0  \n",
       "1710         0         0            0     0             0  \n",
       "\n",
       "[2 rows x 34 columns]"
      ]
     },
     "execution_count": 17,
     "metadata": {},
     "output_type": "execute_result"
    }
   ],
   "source": [
    "print(df_train.pivot_table(index = ['SUBJECT_ID'], aggfunc ='size').head(2))\n",
    "df_train[df_train[\"SUBJECT_ID\"]==17]"
   ]
  },
  {
   "cell_type": "markdown",
   "metadata": {},
   "source": [
    "<u>Patient 808:</u>"
   ]
  },
  {
   "cell_type": "code",
   "execution_count": 18,
   "metadata": {
    "scrolled": true
   },
   "outputs": [
    {
     "data": {
      "text/html": [
       "<div>\n",
       "<style scoped>\n",
       "    .dataframe tbody tr th:only-of-type {\n",
       "        vertical-align: middle;\n",
       "    }\n",
       "\n",
       "    .dataframe tbody tr th {\n",
       "        vertical-align: top;\n",
       "    }\n",
       "\n",
       "    .dataframe thead th {\n",
       "        text-align: right;\n",
       "    }\n",
       "</style>\n",
       "<table border=\"1\" class=\"dataframe\">\n",
       "  <thead>\n",
       "    <tr style=\"text-align: right;\">\n",
       "      <th></th>\n",
       "      <th>SUBJECT_ID</th>\n",
       "      <th>HADM_ID</th>\n",
       "      <th>ADMITTIME</th>\n",
       "      <th>DISCHTIME</th>\n",
       "      <th>DAYS_NEXT_ADMIT</th>\n",
       "      <th>NEXT_ADMITTIME</th>\n",
       "      <th>ADMISSION_TYPE</th>\n",
       "      <th>DEATHTIME</th>\n",
       "      <th>DISCHARGE_LOCATION</th>\n",
       "      <th>INSURANCE</th>\n",
       "      <th>...</th>\n",
       "      <th>mental</th>\n",
       "      <th>misc</th>\n",
       "      <th>muscular</th>\n",
       "      <th>neoplasms</th>\n",
       "      <th>nervous</th>\n",
       "      <th>pregnancy</th>\n",
       "      <th>prenatal</th>\n",
       "      <th>respiratory</th>\n",
       "      <th>skin</th>\n",
       "      <th>OUTPUT_LABEL</th>\n",
       "    </tr>\n",
       "  </thead>\n",
       "  <tbody>\n",
       "    <tr>\n",
       "      <th>553</th>\n",
       "      <td>808</td>\n",
       "      <td>197130</td>\n",
       "      <td>2181-11-16 08:18:00</td>\n",
       "      <td>2181-11-23 09:04:00</td>\n",
       "      <td>8.701389</td>\n",
       "      <td>2181-12-02 01:54:00</td>\n",
       "      <td>EMERGENCY</td>\n",
       "      <td>NaN</td>\n",
       "      <td>HOME HEALTH CARE</td>\n",
       "      <td>Private</td>\n",
       "      <td>...</td>\n",
       "      <td>0</td>\n",
       "      <td>0</td>\n",
       "      <td>0</td>\n",
       "      <td>2</td>\n",
       "      <td>0</td>\n",
       "      <td>0</td>\n",
       "      <td>0</td>\n",
       "      <td>3</td>\n",
       "      <td>0</td>\n",
       "      <td>1</td>\n",
       "    </tr>\n",
       "    <tr>\n",
       "      <th>1189</th>\n",
       "      <td>808</td>\n",
       "      <td>100677</td>\n",
       "      <td>2181-07-12 20:11:00</td>\n",
       "      <td>2181-07-17 13:14:00</td>\n",
       "      <td>13.395833</td>\n",
       "      <td>2181-07-30 22:44:00</td>\n",
       "      <td>EMERGENCY</td>\n",
       "      <td>NaN</td>\n",
       "      <td>HOME HEALTH CARE</td>\n",
       "      <td>Private</td>\n",
       "      <td>...</td>\n",
       "      <td>0</td>\n",
       "      <td>1</td>\n",
       "      <td>0</td>\n",
       "      <td>3</td>\n",
       "      <td>0</td>\n",
       "      <td>0</td>\n",
       "      <td>0</td>\n",
       "      <td>0</td>\n",
       "      <td>0</td>\n",
       "      <td>1</td>\n",
       "    </tr>\n",
       "    <tr>\n",
       "      <th>1995</th>\n",
       "      <td>808</td>\n",
       "      <td>139077</td>\n",
       "      <td>2181-05-11 16:57:00</td>\n",
       "      <td>2181-05-16 11:58:00</td>\n",
       "      <td>13.701389</td>\n",
       "      <td>2181-05-30 04:48:00</td>\n",
       "      <td>EMERGENCY</td>\n",
       "      <td>NaN</td>\n",
       "      <td>HOME</td>\n",
       "      <td>Private</td>\n",
       "      <td>...</td>\n",
       "      <td>0</td>\n",
       "      <td>0</td>\n",
       "      <td>0</td>\n",
       "      <td>0</td>\n",
       "      <td>0</td>\n",
       "      <td>0</td>\n",
       "      <td>0</td>\n",
       "      <td>2</td>\n",
       "      <td>0</td>\n",
       "      <td>1</td>\n",
       "    </tr>\n",
       "  </tbody>\n",
       "</table>\n",
       "<p>3 rows × 34 columns</p>\n",
       "</div>"
      ],
      "text/plain": [
       "      SUBJECT_ID  HADM_ID            ADMITTIME            DISCHTIME  \\\n",
       "553          808   197130  2181-11-16 08:18:00  2181-11-23 09:04:00   \n",
       "1189         808   100677  2181-07-12 20:11:00  2181-07-17 13:14:00   \n",
       "1995         808   139077  2181-05-11 16:57:00  2181-05-16 11:58:00   \n",
       "\n",
       "      DAYS_NEXT_ADMIT       NEXT_ADMITTIME ADMISSION_TYPE DEATHTIME  \\\n",
       "553          8.701389  2181-12-02 01:54:00      EMERGENCY       NaN   \n",
       "1189        13.395833  2181-07-30 22:44:00      EMERGENCY       NaN   \n",
       "1995        13.701389  2181-05-30 04:48:00      EMERGENCY       NaN   \n",
       "\n",
       "     DISCHARGE_LOCATION INSURANCE  ... mental misc muscular neoplasms nervous  \\\n",
       "553    HOME HEALTH CARE   Private  ...      0    0        0         2       0   \n",
       "1189   HOME HEALTH CARE   Private  ...      0    1        0         3       0   \n",
       "1995               HOME   Private  ...      0    0        0         0       0   \n",
       "\n",
       "     pregnancy  prenatal  respiratory  skin  OUTPUT_LABEL  \n",
       "553          0         0            3     0             1  \n",
       "1189         0         0            0     0             1  \n",
       "1995         0         0            2     0             1  \n",
       "\n",
       "[3 rows x 34 columns]"
      ]
     },
     "execution_count": 18,
     "metadata": {},
     "output_type": "execute_result"
    }
   ],
   "source": [
    "df_train[df_train[\"SUBJECT_ID\"]==808]"
   ]
  },
  {
   "cell_type": "markdown",
   "metadata": {},
   "source": [
    "<u>Patient 937:</u>"
   ]
  },
  {
   "cell_type": "code",
   "execution_count": 19,
   "metadata": {},
   "outputs": [
    {
     "data": {
      "text/html": [
       "<div>\n",
       "<style scoped>\n",
       "    .dataframe tbody tr th:only-of-type {\n",
       "        vertical-align: middle;\n",
       "    }\n",
       "\n",
       "    .dataframe tbody tr th {\n",
       "        vertical-align: top;\n",
       "    }\n",
       "\n",
       "    .dataframe thead th {\n",
       "        text-align: right;\n",
       "    }\n",
       "</style>\n",
       "<table border=\"1\" class=\"dataframe\">\n",
       "  <thead>\n",
       "    <tr style=\"text-align: right;\">\n",
       "      <th></th>\n",
       "      <th>SUBJECT_ID</th>\n",
       "      <th>HADM_ID</th>\n",
       "      <th>ADMITTIME</th>\n",
       "      <th>DISCHTIME</th>\n",
       "      <th>DAYS_NEXT_ADMIT</th>\n",
       "      <th>NEXT_ADMITTIME</th>\n",
       "      <th>ADMISSION_TYPE</th>\n",
       "      <th>DEATHTIME</th>\n",
       "      <th>DISCHARGE_LOCATION</th>\n",
       "      <th>INSURANCE</th>\n",
       "      <th>...</th>\n",
       "      <th>mental</th>\n",
       "      <th>misc</th>\n",
       "      <th>muscular</th>\n",
       "      <th>neoplasms</th>\n",
       "      <th>nervous</th>\n",
       "      <th>pregnancy</th>\n",
       "      <th>prenatal</th>\n",
       "      <th>respiratory</th>\n",
       "      <th>skin</th>\n",
       "      <th>OUTPUT_LABEL</th>\n",
       "    </tr>\n",
       "  </thead>\n",
       "  <tbody>\n",
       "    <tr>\n",
       "      <th>0</th>\n",
       "      <td>937</td>\n",
       "      <td>148592</td>\n",
       "      <td>2163-01-20 18:39:00</td>\n",
       "      <td>2163-01-24 08:00:00</td>\n",
       "      <td>0.061806</td>\n",
       "      <td>2163-01-24 09:29:00</td>\n",
       "      <td>EMERGENCY</td>\n",
       "      <td>2163-01-26 08:00:00</td>\n",
       "      <td>DEAD/EXPIRED</td>\n",
       "      <td>Medicare</td>\n",
       "      <td>...</td>\n",
       "      <td>0</td>\n",
       "      <td>0</td>\n",
       "      <td>0</td>\n",
       "      <td>0</td>\n",
       "      <td>1</td>\n",
       "      <td>0</td>\n",
       "      <td>0</td>\n",
       "      <td>0</td>\n",
       "      <td>0</td>\n",
       "      <td>1</td>\n",
       "    </tr>\n",
       "  </tbody>\n",
       "</table>\n",
       "<p>1 rows × 34 columns</p>\n",
       "</div>"
      ],
      "text/plain": [
       "   SUBJECT_ID  HADM_ID            ADMITTIME            DISCHTIME  \\\n",
       "0         937   148592  2163-01-20 18:39:00  2163-01-24 08:00:00   \n",
       "\n",
       "   DAYS_NEXT_ADMIT       NEXT_ADMITTIME ADMISSION_TYPE            DEATHTIME  \\\n",
       "0         0.061806  2163-01-24 09:29:00      EMERGENCY  2163-01-26 08:00:00   \n",
       "\n",
       "  DISCHARGE_LOCATION INSURANCE  ... mental misc muscular neoplasms nervous  \\\n",
       "0       DEAD/EXPIRED  Medicare  ...      0    0        0         0       1   \n",
       "\n",
       "  pregnancy  prenatal  respiratory  skin  OUTPUT_LABEL  \n",
       "0         0         0            0     0             1  \n",
       "\n",
       "[1 rows x 34 columns]"
      ]
     },
     "execution_count": 19,
     "metadata": {},
     "output_type": "execute_result"
    }
   ],
   "source": [
    "df_train[df_train[\"SUBJECT_ID\"]==937]"
   ]
  },
  {
   "cell_type": "code",
   "execution_count": 20,
   "metadata": {
    "scrolled": true
   },
   "outputs": [
    {
     "data": {
      "text/plain": [
       "0    DEAD/EXPIRED\n",
       "Name: DISCHARGE_LOCATION, dtype: object"
      ]
     },
     "execution_count": 20,
     "metadata": {},
     "output_type": "execute_result"
    }
   ],
   "source": [
    "# DISCHARGE_LOCATION holds important data on the fate of patient 937.\n",
    "\n",
    "df_train[df_train[\"SUBJECT_ID\"]==937][\"DISCHARGE_LOCATION\"]"
   ]
  },
  {
   "cell_type": "code",
   "execution_count": 21,
   "metadata": {},
   "outputs": [
    {
     "name": "stdout",
     "output_type": "stream",
     "text": [
      "['Admission Date:  [**2163-1-20**]              Discharge Date:   [**2163-1-24**]\\n\\nDate of Birth:  [**2087-9-24**]             Sex:   M\\n\\nService: NEUROLOGY\\n\\nAllergies:\\nPatient recorded as having No Known Allergies to Drugs\\n\\nAttending:[**First Name3 (LF) 5868**]\\nChief Complaint:\\ntransfer from ICH with intra-parenchymal bleed\\n\\nMajor Surgical or Invasive Procedure:\\nnone\\n\\nHistory of Present Illness:\\nThe patient is a 75 year old man with a history of hypertension\\nand high cholesterol, now presenting on transfer from an OSH\\nwith\\na large right intraparenchymal cerebral bleed.  As per his\\nchart, he originally presented to the OSH with the complaint of\\ninability to feel his right leg.  An angiogram of the leg\\nuncovered a right femoral artery occlusion and he was given t-\\nPA (iv).  The next morning, the patient developed a left\\nhemiparesis with left facial droop and a right gaze preference.\\nAn emergent CT scan of his brain showed multiple hemorrhages\\nprimarily in the right frontal lobe, but also including the left\\nparietal lobe and right cerebellum.\\n\\nReview of Systems:\\n-not obtainable\\n\\n\\nPast Medical History:\\n-umbilical hernia repair\\n-gall bladder removal in [**2160**]\\n-hypertension\\n-high cholesterol\\n-aortofemoral + fem-[**Doctor Last Name **] bypass [**2156**]\\n-TURP in [**2152**]\\n\\n\\nSocial History:\\n-no known history of tobacco or alcohol\\n\\n\\nFamily History:\\n-father died at age [**Age over 90 **]\\n-mother died of heart attack\\n\\n\\nPhysical Exam:\\nVitals:  98.6  140/70  54  18  100% intubated\\nGeneral:  elderly man, moving right arm in bed, some distress\\nNeck: supple\\nLungs:  coarse breath sounds\\nCV: regular rate and rhythm, bradycardic\\nAbdomen:  non-tender, non-distended, bowel sounds present\\nExt: warm, no edema\\n\\nNeurologic Examination:\\nNo eye opening to loud voice or sternal rub; not following\\nsimple\\ncommands to squeeze hands or open eyes; pupils minimally\\nreactive\\nto light but equal; no dolls eye movements; left facial droop;\\nspontaneous movement of RUE, RLL, and LLL, no movement of LUE;\\nwithdraws to pain on all extremities except left arm-here he\\nextensor postures; reflexes brisk throughout with no large\\nasymmetries; toe upgoing on left, down on right\\n\\n\\nPertinent Results:\\ncbc:  13.6/20.0/182\\nchem:  135/4.1  102/24  17/0.7  122\\nc/m/p:  8.7/2.2/2.2\\ncoags:  14.7/26.9/1.4\\n\\nHead CT:  multiple discreet areas of hemorrhage, prominent in\\nthe\\nright frontal lobe; intraventricular extension; some edema with\\nmass effect\\n\\n\\nBrief Hospital Course:\\nThe patient was admitted from an OSH for management of a large\\nintra-parenchymal hemmorrhage.  Patient patient had a poor\\nneurologic examination on admission.  The patient continued to\\ndeteriorate and on hospital day #5 was pronounced brain dead.\\nAs per the families wishes, he became an organ donor.\\n\\nMedications on Admission:\\n-nadolol\\n-hctz\\n-lisinopril\\n-zocor\\n-baby asa\\n-mvi\\n-trental\\n\\n\\nDischarge Medications:\\nn/a\\n\\nDischarge Disposition:\\nExpired\\n\\nDischarge Diagnosis:\\n1.  intraparenchymal hemmorrhage\\n\\nDischarge Condition:\\nexpired\\n\\nDischarge Instructions:\\nn/a\\n\\nFollowup Instructions:\\nn/a\\n\\n\\nCompleted by:[**2163-3-14**]']\n"
     ]
    }
   ],
   "source": [
    "# TEXT holds important data on the fate of patient 937:\n",
    "#     Discharge Disposition:\\nExpired\\n\\nDischarge Diagnosis:\\n1.  \n",
    "#     intraparenchymal hemmorrhage\\n\\nDischarge Condition:\\nexpired\n",
    "\n",
    "print(df_train[df_train[\"SUBJECT_ID\"]==937][\"TEXT\"].values)"
   ]
  },
  {
   "cell_type": "markdown",
   "metadata": {},
   "source": [
    "<hr>\n",
    "\n",
    "#### 2.2.3 - <u>Selecting our feature variables (X) and target variable (Y):</u>\n",
    "\n",
    "<u>1 - Selecting our target variable (Y):</u>\n",
    "\n",
    "We can predict if a patient will **i)** be readmitted at some point, **ii)** die, **iii)** be discharged without readmission\n",
    "\n",
    "We can assign a tag to each of the scenarios above which will be used to perform classification\n",
    "\n",
    "<u>2 - Selecting our feature variables (X)</u>\n",
    "\n",
    "We decide that, due to data leakage concerns, to not focus on the following variables:  ADMITTIME, DISCHTIME (those are obvious data leakage risk as they give information on actual readmission rates), DEATHTIME, DISCHARGE_LOCATION and TEXT (those may in theory hold important information on the end fate of the patient, meaning we cannot include those features as it would leak information with regards to the outcome we want to predict), and finally the provided bag of words (of the DIAGNOSIS column, which we discard as we will be building our own embedding).\n",
    "\n",
    "As such, we focus on the following features:\n",
    "\n",
    "    - Age (which we will have to construct out of DOB and ADMITTIME)\n",
    "    - GENDER\n",
    "    - MARITAL_STATUS\n",
    "    - ETHNICITY (see note)\n",
    "    - INSURANCE\n",
    "    - ADMISSION_TYPE\n",
    "    - Length of stay (which we will have to construct out of DISCTIME and ADMITTIME)\n",
    "    - DIAGNOSIS (from which we will build our own bag of words representation)\n",
    "\n",
    "<u>3 - Note on ETHNICITY:</u>\n",
    "\n",
    "It is important to note that ethnic/racial data is a controversial topic in AI. The goal is to avoid racial profiling as well as racial discrimination. Especially in health. \n",
    "\n",
    "It happens that systemic racism and poverty greatly affect minorities in the United States. We recall that the [MIMIC dataset is a relational database containing tables of data relating to patients who stayed within the intensive care units](https://mimic.physionet.org/gettingstarted/overview/) at [Beth Israel Deaconess Medical Center in Boston, MA, USA](https://en.wikipedia.org/wiki/Beth_Israel_Deaconess_Medical_Center). The hospital is a *private* teaching center attached to the Harvard Medical School. In Massachusetts, [poverty afflicts minorities about twice as much as white people](https://www.welfareinfo.org/poverty-rate/massachusetts/).\n",
    "\n",
    "As such, ethnicity may have a strong impact on both the quality of their care, their access to insurance, and in the end their potential rate of readmission, etc.\n",
    "\n",
    "Nevertheless, for the purpose of the exercise (given that trying models with and without the variable is computationally expensive), we will keep the variable for now.\n",
    "\n",
    "<u>4 - Note on TEXT and DISCHARGE_LOCATION:</u>\n",
    "\n",
    "As we saw in the cell above, TEXT and DISCHARGE_LOCATION may hold important information on the end fate of the patient, meaning we cannot include those features as **it would leak information with regards to the outcome we want to predict**.\n",
    "\n",
    "<hr>"
   ]
  },
  {
   "cell_type": "code",
   "execution_count": 22,
   "metadata": {},
   "outputs": [],
   "source": [
    "feature_columns = [\"DOB\", \"GENDER\", \"MARITAL_STATUS\", \"ETHNICITY\", \"INSURANCE\", \n",
    "                   \"ADMISSION_TYPE\", \"DIAGNOSIS\", \"ADMITTIME\", \"DISCHTIME\"]\n",
    "target_column = \"DAYS_NEXT_ADMIT\"\n",
    "\n",
    "# We copy the selected variables from the imported datasets\n",
    "\n",
    "X_train = df_train[feature_columns].copy()\n",
    "X_test = df_test[feature_columns].copy()\n",
    "\n",
    "y_train = df_train[target_column].copy()\n",
    "y_test = df_test[target_column].copy()"
   ]
  },
  {
   "cell_type": "markdown",
   "metadata": {},
   "source": [
    "<hr>\n",
    "\n",
    "#### 2.2.4 - <u>Performing pre-processing on our target variable (Y):</u>\n",
    "\n",
    "    1. Removing NaN values (from our Y and X DataFrames)\n",
    "\n",
    "Given the assumption cited above (i.e., *Since our goal is to predict (via regression) the number of days to next re-hospitalization, we will be removing from the dataset individuals which do not have a readmission date (represented as NaN values*), we record the indexes where our target variable Y contains NaN values and remove the corresponding rows from both our target and feature DataFrames.\n",
    "\n",
    "    2. Pre-processing our target variable\n",
    "\n",
    "We proceed with the following assumptions:\n",
    "\n",
    "1. if DEATHTIME is not NaN, the patient is classified as \"dead\"\n",
    "2. if DAYS_NEXT_ADMIT are not NaN, the patient is classified as \"will be readmitted\"\n",
    "3. if neither DEATTIME or DAYS_NEXT_ADMIT are NaN, the patient is classified as \"will not be readmitted\" (i.e. remission)\n",
    "\n",
    "<hr>"
   ]
  },
  {
   "cell_type": "code",
   "execution_count": 23,
   "metadata": {},
   "outputs": [
    {
     "name": "stdout",
     "output_type": "stream",
     "text": [
      "DAYS_NEXT_ADMIT     790\n",
      "DEATHTIME          1842\n",
      "dtype: int64\n",
      "DAYS_NEXT_ADMIT    375\n",
      "DEATHTIME          843\n",
      "dtype: int64\n"
     ]
    }
   ],
   "source": [
    "# We record the DAYS_NEXT_ADMIT, NEXT_ADMITTIME, DEATHTIME columns\n",
    "\n",
    "y_train = df_train[[\"DAYS_NEXT_ADMIT\", \"DEATHTIME\"]].copy()\n",
    "y_test = df_test[[\"DAYS_NEXT_ADMIT\", \"DEATHTIME\"]].copy()\n",
    "\n",
    "print(y_train.isnull().sum(),\n",
    "      y_test.isnull().sum(),\n",
    "      sep=\"\\n\")"
   ]
  },
  {
   "cell_type": "code",
   "execution_count": 24,
   "metadata": {},
   "outputs": [],
   "source": [
    "# Based on our classification assumptions we construct a target \n",
    "# variable with the following values:\n",
    "\n",
    "for table in [y_train, y_test]:\n",
    "    # \"DEAD\" if DEATHTIME is not NaN\n",
    "    # \"READMISSION\" if DAYS_NEXT_ADMIT are not NaN\n",
    "    # \"REMISSION\" if neither DEATTIME or DAYS_NEXT_ADMIT are NaN\n",
    "    table[\"OUTCOME\"] = \"READMISSION\"\n",
    "    table[\"OUTCOME\"][table[\"DEATHTIME\"].isnull()==False] = \"DEAD\"\n",
    "    table[\"OUTCOME\"][table[\"DAYS_NEXT_ADMIT\"].isnull() &\n",
    "                     table[\"DEATHTIME\"].isnull()] = \"REMISSION\"\n",
    "    # we drop columns as they are not useful anymore\n",
    "    table.drop([\"DAYS_NEXT_ADMIT\"], axis = 1, inplace = True)\n",
    "    table.drop([\"DEATHTIME\"], axis = 1, inplace = True)"
   ]
  },
  {
   "cell_type": "code",
   "execution_count": 25,
   "metadata": {},
   "outputs": [
    {
     "data": {
      "text/plain": [
       "OUTCOME    \n",
       "READMISSION    1194\n",
       "REMISSION       648\n",
       "DEAD            158\n",
       "dtype: int64"
      ]
     },
     "execution_count": 25,
     "metadata": {},
     "output_type": "execute_result"
    }
   ],
   "source": [
    "# We check our target variables (with the example of the train target\n",
    "# variables)\n",
    "\n",
    "y_train.value_counts()"
   ]
  },
  {
   "cell_type": "markdown",
   "metadata": {},
   "source": [
    "<hr>\n",
    "\n",
    "#### 2.2.5 - <u>Performing pre-processing on our feature variables (X):</u>\n",
    "\n",
    "    1. Removing the feature rows (i.e. data points) which correspond to NaN values in the target \n",
    "    variable Y\n",
    "    \n",
    "Done in 2.2.4.\n",
    "    \n",
    "    2. Highlighting remaining NaN values and deciding how to pre-process them\n",
    "\n",
    "As we see in the first code cell below, NaN values are found only in the MARITAL_STATUS, DIAGNOSIS and TEXT columns only after the previous cleaning. As we plan on performing a One-Hot Encoding for the former and a Bag of Words embedding for the latter, we will not remove those rows as they will be transformed into features.\n",
    "\n",
    "    3. Building a LENGTH_OF_STAY and AGE features from our pre-existing data\n",
    "    \n",
    "We build a length of stay variable by taking the difference between ADMITTIME and DISCTIME (in days). We proceed as such:\n",
    "\n",
    "- convert ADMITTIME and DISCTIME dates to datetime\n",
    "- calculate the float value timedelta (in days)\n",
    "- drop DISCHTIME as it is not useful anymore\n",
    "- rescale the variable using a MinMaxScaler\n",
    "\n",
    "We build an age variable by taking the difference between ADMITTIME and DOB (in year). We proceed as such:\n",
    "\n",
    "- convert dates to year\n",
    "- calculate the float value timedelta (in year)\n",
    "- drop ADMITTIME and DOB as they are not useful anymore\n",
    "- rescale the variable using a MinMaxScaler\n",
    "\n",
    "Before applying the MinMaxScaler, we find that some ages are impossible (being well above the oldest recorded age for a human being), leading to think that the dataset has misrecorded values. To deal with those, we decide to replace these erroneous values with the average age of the rest of the dataset (i.e. the mean of all ages that are not impossible). We proceed as such:\n",
    "\n",
    "- calculate the average age in the rest of the train dataset\n",
    "- replace the wrong age values with the calculated average in both the train and test dataset\n",
    "\n",
    "119 rows are impacted. \n",
    "\n",
    "\n",
    "    4. One-hot encoding the discrete features we ended up selecting\n",
    " \n",
    "We build one-hot encoding for each discrete/categorical variables we decided to keep: GENDER, MARITAL_STATUS, ETHNICITY, INSURANCE, ADMISSION_TYPE\n",
    "    \n",
    "    5. Building an embedding representation of the DIAGNOSIS column\n",
    "\n",
    "We want to build our own Bag of Words representation of the DIAGNOSIS column, using the sklearn CountVectorizer object. We proceed as such:\n",
    "\n",
    "- pre-process the content of the DIAGNOSIS column\n",
    "- declare and fit the CountVectorizer object\n",
    "- transform the diagnosis column using the count vectorizer\n",
    "- expand the resulting feature matrix into individual columns\n",
    "- drop the DIAGNOSIS columns to clean up the dataset\n",
    "\n",
    "<hr>"
   ]
  },
  {
   "cell_type": "markdown",
   "metadata": {},
   "source": [
    "<u>Highlighting remaining NaN values and deciding how to pre-process them:</u>"
   ]
  },
  {
   "cell_type": "code",
   "execution_count": 26,
   "metadata": {},
   "outputs": [
    {
     "name": "stdout",
     "output_type": "stream",
     "text": [
      "DOB                0\n",
      "GENDER             0\n",
      "MARITAL_STATUS    76\n",
      "ETHNICITY          0\n",
      "INSURANCE          0\n",
      "ADMISSION_TYPE     0\n",
      "DIAGNOSIS          2\n",
      "ADMITTIME          0\n",
      "DISCHTIME          0\n",
      "dtype: int64\n",
      "\n",
      "DOB                0\n",
      "GENDER             0\n",
      "MARITAL_STATUS    40\n",
      "ETHNICITY          0\n",
      "INSURANCE          0\n",
      "ADMISSION_TYPE     0\n",
      "DIAGNOSIS          0\n",
      "ADMITTIME          0\n",
      "DISCHTIME          0\n",
      "dtype: int64\n"
     ]
    }
   ],
   "source": [
    "print(X_train.isnull().sum(),\n",
    "      X_test.isnull().sum(),\n",
    "      sep=\"\\n\\n\")"
   ]
  },
  {
   "cell_type": "markdown",
   "metadata": {},
   "source": [
    "<u>Building LENGTH_OF_STAY (in days):</u>"
   ]
  },
  {
   "cell_type": "code",
   "execution_count": 27,
   "metadata": {},
   "outputs": [],
   "source": [
    "#Building the variable\n",
    "X_train[\"ADMITTIME\"] = pd.to_datetime(X_train[\"ADMITTIME\"])\n",
    "X_train[\"DISCHTIME\"] = pd.to_datetime(X_train[\"DISCHTIME\"])\n",
    "X_train[\"LENGTH_OF_STAY\"] = X_train[\"DISCHTIME\"] - X_train[\"ADMITTIME\"]\n",
    "X_train[\"LENGTH_OF_STAY\"] = X_train[\"LENGTH_OF_STAY\"].dt.total_seconds() / (24 * 60 * 60)\n",
    "\n",
    "X_test[\"ADMITTIME\"] = pd.to_datetime(X_test[\"ADMITTIME\"])\n",
    "X_test[\"DISCHTIME\"] = pd.to_datetime(X_test[\"DISCHTIME\"])\n",
    "X_test[\"LENGTH_OF_STAY\"] = X_test[\"DISCHTIME\"] - X_test[\"ADMITTIME\"]\n",
    "X_test[\"LENGTH_OF_STAY\"] = X_test[\"LENGTH_OF_STAY\"].dt.total_seconds() / (24 * 60 * 60)\n",
    "\n",
    "X_train.drop([\"DISCHTIME\"], axis = 1, inplace = True)\n",
    "X_test.drop([\"DISCHTIME\"], axis = 1, inplace = True)"
   ]
  },
  {
   "cell_type": "code",
   "execution_count": 28,
   "metadata": {},
   "outputs": [],
   "source": [
    "# Rescaling\n",
    "min_max = MinMaxScaler()\n",
    "\n",
    "var_train = pd.DataFrame(X_train[\"LENGTH_OF_STAY\"])\n",
    "var_test = pd.DataFrame(X_test[\"LENGTH_OF_STAY\"])\n",
    "\n",
    "min_max.fit(var_train)\n",
    "X_train[\"LENGTH_OF_STAY\"] = min_max.transform(var_train)\n",
    "X_test[\"LENGTH_OF_STAY\"] = min_max.transform(var_test)"
   ]
  },
  {
   "cell_type": "markdown",
   "metadata": {},
   "source": [
    "<u>Building AGE (in year):</u>"
   ]
  },
  {
   "cell_type": "code",
   "execution_count": 29,
   "metadata": {},
   "outputs": [],
   "source": [
    "X_train[\"DOB\"] = pd.to_datetime(X_train[\"DOB\"]).dt.year\n",
    "X_train[\"ADMITTIME\"] = X_train[\"ADMITTIME\"].dt.year\n",
    "X_train[\"AGE\"] = X_train[\"ADMITTIME\"] - X_train[\"DOB\"]\n",
    "\n",
    "X_test[\"DOB\"] = pd.to_datetime(X_test[\"DOB\"]).dt.year\n",
    "X_test[\"ADMITTIME\"] = X_test[\"ADMITTIME\"].dt.year\n",
    "X_test[\"AGE\"] = X_test[\"ADMITTIME\"] - X_test[\"DOB\"]\n",
    "\n",
    "X_train.drop([\"ADMITTIME\", \"DOB\"], axis = 1, inplace = True)\n",
    "X_test.drop([\"ADMITTIME\", \"DOB\"], axis = 1, inplace = True)"
   ]
  },
  {
   "cell_type": "code",
   "execution_count": 30,
   "metadata": {},
   "outputs": [
    {
     "name": "stdout",
     "output_type": "stream",
     "text": [
      "[0, 1, 17, 18, 19, 20, 21, 22, 23, 24, 25, 26, 27, 28, 29, 30, 31, 32, 33, 34, 35, 36, 37, 38, 39, 40, 41, 42, 43, 44, 45, 46, 47, 48, 49, 50, 51, 52, 53, 54, 55, 56, 57, 58, 59, 60, 61, 62, 63, 64, 65, 66, 67, 68, 69, 70, 71, 72, 73, 74, 75, 76, 77, 78, 79, 80, 81, 82, 83, 84, 85, 86, 87, 88, 89, 300, 301, 302, 303, 305, 306, 307, 308, 310]\n",
      "\n",
      "[0, 17, 18, 19, 20, 21, 22, 23, 24, 25, 26, 28, 29, 30, 31, 32, 33, 34, 35, 36, 37, 38, 39, 40, 41, 42, 43, 44, 45, 46, 47, 48, 49, 50, 51, 52, 53, 54, 55, 56, 57, 58, 59, 60, 61, 62, 63, 64, 65, 66, 67, 68, 69, 70, 71, 72, 73, 74, 75, 76, 77, 78, 79, 80, 81, 82, 83, 84, 85, 86, 87, 88, 89, 300, 301, 302, 303, 305, 308]\n",
      "119\n"
     ]
    }
   ],
   "source": [
    "# Some calculated ages are well above possible values.\n",
    "print(sorted(X_train[\"AGE\"].unique()),\n",
    "      sorted(X_test[\"AGE\"].unique()),\n",
    "      sep=\"\\n\\n\")\n",
    "# There are 119 age value above 122 (the oldest recorded age in a human)\n",
    "print(len(X_train[X_train[\"AGE\"]>122]))"
   ]
  },
  {
   "cell_type": "code",
   "execution_count": 31,
   "metadata": {},
   "outputs": [],
   "source": [
    "# Replacing the impossible ages with the average age in the dataset\n",
    "average_age = X_train[X_train[\"AGE\"]<=89][\"AGE\"].mean()\n",
    "X_train.loc[(X_train.AGE > 89), 'AGE'] = average_age\n",
    "X_test.loc[(X_test.AGE > 89), 'AGE'] = average_age"
   ]
  },
  {
   "cell_type": "code",
   "execution_count": 32,
   "metadata": {},
   "outputs": [],
   "source": [
    "# Rescaling\n",
    "min_max = MinMaxScaler()\n",
    "\n",
    "var_train = pd.DataFrame(X_train[\"AGE\"])\n",
    "var_test = pd.DataFrame(X_test[\"AGE\"])\n",
    "\n",
    "min_max.fit(var_train)\n",
    "X_train[\"AGE\"] = min_max.transform(var_train)\n",
    "X_test[\"AGE\"] = min_max.transform(var_test)"
   ]
  },
  {
   "cell_type": "markdown",
   "metadata": {},
   "source": [
    "<u>One-hot encoding the discrete features we ended up selecting:</u>"
   ]
  },
  {
   "cell_type": "code",
   "execution_count": 33,
   "metadata": {},
   "outputs": [],
   "source": [
    "dummy_list = [\"GENDER\", \"MARITAL_STATUS\", \"ETHNICITY\", \"INSURANCE\", \"ADMISSION_TYPE\"]\n",
    "\n",
    "X_train = pd.get_dummies(X_train, columns = dummy_list)\n",
    "X_test = pd.get_dummies(X_test, columns = dummy_list)"
   ]
  },
  {
   "cell_type": "markdown",
   "metadata": {},
   "source": [
    "<u>Building an embedding representation of the text features we ended up selecting:</u>\n",
    "\n",
    "**DIAGNOSIS**:"
   ]
  },
  {
   "cell_type": "code",
   "execution_count": 34,
   "metadata": {},
   "outputs": [],
   "source": [
    "X_train[\"DIAGNOSIS\"] = X_train[\"DIAGNOSIS\"].apply(sentence_processing)\n",
    "X_test[\"DIAGNOSIS\"] = X_test[\"DIAGNOSIS\"].apply(sentence_processing)"
   ]
  },
  {
   "cell_type": "code",
   "execution_count": 35,
   "metadata": {},
   "outputs": [],
   "source": [
    "cv = CountVectorizer(analyzer=\"word\", ngram_range=(1,1), stop_words=\"english\")\n",
    "cv.fit(X_train[\"DIAGNOSIS\"].tolist())\n",
    "\n",
    "tf = lambda s: cv.transform([s]).todense().tolist()[0]\n",
    "X_train[\"DIAGNOSIS\"] = X_train[\"DIAGNOSIS\"].apply(tf)\n",
    "X_test[\"DIAGNOSIS\"] = X_test[\"DIAGNOSIS\"].apply(tf)\n",
    "\n",
    "X_train[cv.get_feature_names()] = pd.DataFrame(X_train[\"DIAGNOSIS\"].tolist(), \n",
    "                                               index= X_train.index)\n",
    "X_test[cv.get_feature_names()] = pd.DataFrame(X_test[\"DIAGNOSIS\"].tolist(), \n",
    "                                               index= X_test.index)"
   ]
  },
  {
   "cell_type": "code",
   "execution_count": 36,
   "metadata": {},
   "outputs": [],
   "source": [
    "X_train.drop([\"DIAGNOSIS\"], axis=1, inplace=True)\n",
    "X_test.drop([\"DIAGNOSIS\"], axis=1, inplace=True)"
   ]
  },
  {
   "cell_type": "code",
   "execution_count": 37,
   "metadata": {
    "scrolled": false
   },
   "outputs": [
    {
     "name": "stdout",
     "output_type": "stream",
     "text": [
      "Number of created embeddings: 819.\n",
      "\n",
      "['1st', '21', '22', 'abcess', 'abd', 'abdcess', 'abdomal', 'abdomen', 'abdominal', 'ablation', 'abscess', 'abuse', 'accending', 'access', 'accident', 'account', 'achalasia', 'acidosis', 'acitic', 'acsites', 'acute', 'advancement', 'afib', 'aicd', 'air', 'airway', 'alcohol', 'als', 'altered', 'aml', 'anasarca', 'anemia', 'aneursym', 'aneurysm', 'angina', 'angio', 'angiogram', 'angioplasty', 'ankle', 'anomaly', 'anterior', 'antibiotic', 'anticholinergic', 'aorta', 'aortic', 'appendicitis', 'approach', 'ar', 'arachnoid', 'arch', 'arf', 'arrest', 'arterial', 'artery', 'ascending', 'ascites', 'aspiration', 'assault', 'asthma', 'asthmaticus', 'ataxia', 'atriacure', 'atrial', 'atrioventricular', 'attach', 'attack', 'aureus', 'av', 'avascular', 'avr', 'axillo', 'bacteremia', 'bacterial', 'benign', 'bental', 'bentall', 'benzodiazepine', 'bi', 'bifemoral', 'bilateral', 'bile', 'bili', 'biliary', 'biventricular', 'bladder', 'bled', 'bleed', 'bleeding', 'block', 'blomyscin', 'blood', 'blunt', 'bone', 'bowel', 'bowl', 'bradycardia', 'brain', 'breast', 'breath', 'bright']\n"
     ]
    }
   ],
   "source": [
    "print(f\"Number of created embeddings: {len(cv.get_feature_names())}.\",\n",
    "      cv.get_feature_names()[:100],\n",
    "      sep=\"\\n\\n\")"
   ]
  },
  {
   "cell_type": "markdown",
   "metadata": {},
   "source": [
    "<hr>\n",
    "\n",
    "## 3. Providing a baseline with non-deep learning models\n",
    "\n",
    "Our Classification modeling comparison will focus on two score metrics:\n",
    "\n",
    "- **Accuracy score**\n",
    "\n",
    "> The accuracy score represents the ability of a model to correctly predict the label of each data point in a set. Mathematically, it represents the ratio of sum of true positive and true negatives out of all the predictions\n",
    "\n",
    "$$ {ACC} = \\frac{TP + TN}{TP+FN+TN+FP} $$\n",
    "\n",
    "With $ TP $ the true positives, $ FN $ the false negatives, $ TN $ the true negatives, and $ FP $ the false positives.\n",
    "\n",
    "- **F1 score**\n",
    "\n",
    "> The F1 score represents a function of the model's precision (proportion of positive identifications that are actually correct) and recall (proportion of actual positive identifications that were identified correctly) scores. \n",
    ">\n",
    "> This is a useful measure of the model while trying to optimize either or both of precision or recall score of the model.\n",
    "\n",
    "$$ {Precision} = \\frac{TP}{FP+TP} $$\n",
    "\n",
    "$$ {Recall} = \\frac{TP}{FN + TP} $$\n",
    "\n",
    "$$ {F1\\, score} = 2\\times\\frac{{Precision}\\times{Recall}}{{Precision}+{Recall}} $$\n",
    "\n",
    "<hr>"
   ]
  },
  {
   "cell_type": "markdown",
   "metadata": {},
   "source": [
    "## 3. Modeling\n",
    "\n",
    "We propose six different models:\n",
    "\n",
    "- Logistic Regression\n",
    "\n",
    "- KNN\n",
    "\n",
    "- Naive Bayes\n",
    "\n",
    "- Random Forest\n",
    "\n",
    "- SVM\n",
    "\n",
    "- Boosting\n",
    "\n",
    "Every time we will proceed in two steps:\n",
    "\n",
    "1. Training a model with default parameters\n",
    "\n",
    "2. Performing a gridsearch to find the best mix\n",
    "\n",
    "<hr>\n",
    "\n",
    "### 3.1 Logistic Regression\n",
    "\n",
    "We see below that the Logistic Regression model has a difficulty identifying data points tagged with the target variable \"DEATH\".\n",
    "\n",
    "#### 3.1.1 Default Parameters"
   ]
  },
  {
   "cell_type": "code",
   "execution_count": 38,
   "metadata": {},
   "outputs": [
    {
     "data": {
      "text/plain": [
       "LogisticRegression()"
      ]
     },
     "execution_count": 38,
     "metadata": {},
     "output_type": "execute_result"
    }
   ],
   "source": [
    "# Model declaration and training\n",
    "\n",
    "lr_model = LogisticRegression()\n",
    "lr_model.fit(X_train, y_train)"
   ]
  },
  {
   "cell_type": "code",
   "execution_count": 39,
   "metadata": {},
   "outputs": [],
   "source": [
    "# Model prediction\n",
    "\n",
    "lr_pred_train = lr_model.predict(X_train)\n",
    "lr_pred_test = lr_model.predict(X_test)"
   ]
  },
  {
   "cell_type": "code",
   "execution_count": 40,
   "metadata": {},
   "outputs": [
    {
     "name": "stdout",
     "output_type": "stream",
     "text": [
      "--- Train Set Scores ---\n",
      "Accuracy: 0.76\n",
      "F1 score: 0.78\n",
      "\n",
      "--- Test Set Scores ---\n",
      "Accuracy: 0.65\n",
      "F1 score: 0.68\n"
     ]
    }
   ],
   "source": [
    "# Scores\n",
    "\n",
    "lr_score = classification_score(lr_pred_train, lr_pred_test, \n",
    "                                y_train, y_test)"
   ]
  },
  {
   "cell_type": "code",
   "execution_count": 41,
   "metadata": {},
   "outputs": [
    {
     "data": {
      "image/png": "[encoded data removed]",
      "text/plain": [
       "<Figure size 432x288 with 2 Axes>"
      ]
     },
     "metadata": {},
     "output_type": "display_data"
    }
   ],
   "source": [
    "# Confusion Matrices\n",
    "\n",
    "confusion(lr_model, X_train, y_train, \n",
    "          \"Train set Logistic Regression prediction - Confusion matrix\")"
   ]
  },
  {
   "cell_type": "code",
   "execution_count": 42,
   "metadata": {},
   "outputs": [
    {
     "data": {
      "image/png": "[encoded data removed]",
      "text/plain": [
       "<Figure size 432x288 with 2 Axes>"
      ]
     },
     "metadata": {},
     "output_type": "display_data"
    }
   ],
   "source": [
    "confusion(lr_model, X_test, y_test, \n",
    "          \"Test set Logistic Regression prediction - Confusion matrix\")"
   ]
  },
  {
   "cell_type": "markdown",
   "metadata": {},
   "source": [
    "#### 3.1.2 GridSearch"
   ]
  },
  {
   "cell_type": "code",
   "execution_count": 43,
   "metadata": {},
   "outputs": [
    {
     "data": {
      "text/plain": [
       "GridSearchCV(estimator=LogisticRegression(),\n",
       "             param_grid={'max_iter': (100, 300, 500, 1000, 2000),\n",
       "                         'penalty': ('l1', 'l2', 'elasticnet', 'none'),\n",
       "                         'solver': ('newton-cg', 'lbfgs', 'liblinear', 'sag',\n",
       "                                    'saga')})"
      ]
     },
     "execution_count": 43,
     "metadata": {},
     "output_type": "execute_result"
    }
   ],
   "source": [
    "# Going further with GridSearch\n",
    "\n",
    "parameters = {\"penalty\":(\"l1\", \"l2\", \"elasticnet\", \"none\"),\n",
    "              \"solver\":(\"newton-cg\", \"lbfgs\", \"liblinear\", \"sag\", \"saga\"),\n",
    "              \"max_iter\":(100, 300, 500, 1000, 2000)}\n",
    "\n",
    "# Model declaration and training\n",
    "\n",
    "lr_model = LogisticRegression()\n",
    "lr_grid_search = GridSearchCV(lr_model, parameters)\n",
    "lr_grid_search.fit(X_train, y_train)"
   ]
  },
  {
   "cell_type": "code",
   "execution_count": 44,
   "metadata": {},
   "outputs": [
    {
     "data": {
      "text/plain": [
       "{'max_iter': 100, 'penalty': 'l1', 'solver': 'saga'}"
      ]
     },
     "execution_count": 44,
     "metadata": {},
     "output_type": "execute_result"
    }
   ],
   "source": [
    "# Prints the best parameters\n",
    "\n",
    "lr_grid_search.best_params_"
   ]
  },
  {
   "cell_type": "code",
   "execution_count": 45,
   "metadata": {},
   "outputs": [
    {
     "name": "stdout",
     "output_type": "stream",
     "text": [
      "--- Train Set Scores ---\n",
      "Accuracy: 0.70\n",
      "F1 score: 0.74\n",
      "\n",
      "--- Test Set Scores ---\n",
      "Accuracy: 0.64\n",
      "F1 score: 0.68\n"
     ]
    }
   ],
   "source": [
    "# Model prediction\n",
    "\n",
    "lr_grid_pred_train = lr_grid_search.predict(X_train)\n",
    "lr_grid_pred_test = lr_grid_search.predict(X_test)\n",
    "\n",
    "# Scores\n",
    "\n",
    "lr_grid_score = classification_score(lr_grid_pred_train, lr_grid_pred_test, \n",
    "                                     y_train, y_test)"
   ]
  },
  {
   "cell_type": "markdown",
   "metadata": {},
   "source": [
    "<hr>\n",
    "\n",
    "### 3.2 KNN\n",
    "\n",
    "Similar to logistic regression, but at a lesser extent, we see below that the KNN model has a difficulty identifying data points tagged with the target variable \"DEATH\".\n",
    "\n",
    "#### 3.2.1 Default Parameters"
   ]
  },
  {
   "cell_type": "code",
   "execution_count": 46,
   "metadata": {},
   "outputs": [
    {
     "data": {
      "text/plain": [
       "KNeighborsClassifier()"
      ]
     },
     "execution_count": 46,
     "metadata": {},
     "output_type": "execute_result"
    }
   ],
   "source": [
    "# Model declaration and training\n",
    "\n",
    "knn_model = KNeighborsClassifier()\n",
    "knn_model.fit(X_train, y_train)"
   ]
  },
  {
   "cell_type": "code",
   "execution_count": 47,
   "metadata": {},
   "outputs": [],
   "source": [
    "# Model prediction\n",
    "\n",
    "knn_pred_train = knn_model.predict(X_train)\n",
    "knn_pred_test = knn_model.predict(X_test)"
   ]
  },
  {
   "cell_type": "code",
   "execution_count": 48,
   "metadata": {},
   "outputs": [
    {
     "name": "stdout",
     "output_type": "stream",
     "text": [
      "--- Train Set Scores ---\n",
      "Accuracy: 0.72\n",
      "F1 score: 0.74\n",
      "\n",
      "--- Test Set Scores ---\n",
      "Accuracy: 0.57\n",
      "F1 score: 0.60\n"
     ]
    }
   ],
   "source": [
    "# Scores\n",
    "\n",
    "knn_score = classification_score(knn_pred_train, knn_pred_test, \n",
    "                                 y_train, y_test)"
   ]
  },
  {
   "cell_type": "code",
   "execution_count": 49,
   "metadata": {},
   "outputs": [
    {
     "data": {
      "image/png": "[encoded data removed]",
      "text/plain": [
       "<Figure size 432x288 with 2 Axes>"
      ]
     },
     "metadata": {},
     "output_type": "display_data"
    }
   ],
   "source": [
    "# Confusion Matrices\n",
    "\n",
    "confusion(knn_model, X_train, y_train, \n",
    "          \"Train set KNN prediction - Confusion matrix\")"
   ]
  },
  {
   "cell_type": "code",
   "execution_count": 50,
   "metadata": {},
   "outputs": [
    {
     "data": {
      "image/png": "[encoded data removed]",
      "text/plain": [
       "<Figure size 432x288 with 2 Axes>"
      ]
     },
     "metadata": {},
     "output_type": "display_data"
    }
   ],
   "source": [
    "confusion(knn_model, X_test, y_test, \n",
    "          \"Test set KNN prediction - Confusion matrix\")"
   ]
  },
  {
   "cell_type": "markdown",
   "metadata": {},
   "source": [
    "#### 3.2.2 GridSearch"
   ]
  },
  {
   "cell_type": "code",
   "execution_count": 51,
   "metadata": {},
   "outputs": [
    {
     "data": {
      "text/plain": [
       "GridSearchCV(estimator=KNeighborsClassifier(),\n",
       "             param_grid={'algorithm': ('auto', 'ball_tree', 'kd_tree', 'brute'),\n",
       "                         'n_neighbors': [5, 6, 7, 8, 9, 10, 11, 12, 13, 14, 15,\n",
       "                                         16, 17, 18, 19, 20, 21, 22, 23, 24, 25,\n",
       "                                         26, 27, 28, 29, 30, 31, 32, 33, 34, ...],\n",
       "                         'weights': ('uniform', 'distance')})"
      ]
     },
     "execution_count": 51,
     "metadata": {},
     "output_type": "execute_result"
    }
   ],
   "source": [
    "# Going further with GridSearch\n",
    "\n",
    "parameters = {\"weights\":(\"uniform\", \"distance\"),\n",
    "              \"algorithm\":(\"auto\", \"ball_tree\", \"kd_tree\", \"brute\"),\n",
    "              \"n_neighbors\": list(range(5, 40))}\n",
    "\n",
    "# Model declaration and training\n",
    "\n",
    "knn_model = KNeighborsClassifier()\n",
    "knn_grid_search = GridSearchCV(knn_model, parameters)\n",
    "knn_grid_search.fit(X_train, y_train)"
   ]
  },
  {
   "cell_type": "code",
   "execution_count": 52,
   "metadata": {},
   "outputs": [
    {
     "data": {
      "text/plain": [
       "{'algorithm': 'auto', 'n_neighbors': 19, 'weights': 'uniform'}"
      ]
     },
     "execution_count": 52,
     "metadata": {},
     "output_type": "execute_result"
    }
   ],
   "source": [
    "# Prints the best parameters\n",
    "\n",
    "knn_grid_search.best_params_"
   ]
  },
  {
   "cell_type": "code",
   "execution_count": 53,
   "metadata": {},
   "outputs": [
    {
     "name": "stdout",
     "output_type": "stream",
     "text": [
      "--- Train Set Scores ---\n",
      "Accuracy: 0.65\n",
      "F1 score: 0.71\n",
      "\n",
      "--- Test Set Scores ---\n",
      "Accuracy: 0.61\n",
      "F1 score: 0.68\n"
     ]
    }
   ],
   "source": [
    "# Model prediction\n",
    "\n",
    "knn_grid_pred_train = knn_grid_search.predict(X_train)\n",
    "knn_grid_pred_test = knn_grid_search.predict(X_test)\n",
    "\n",
    "# Scores\n",
    "\n",
    "knn_grid_score = classification_score(knn_grid_pred_train, knn_grid_pred_test, \n",
    "                                      y_train, y_test)"
   ]
  },
  {
   "cell_type": "markdown",
   "metadata": {},
   "source": [
    "<hr>\n",
    "\n",
    "### 3.3 Naive Bayes\n",
    "\n",
    "Naive Bayes fares much poorer as a model compared to the ones we've seen so far, having a hard time predicting readmissions at all.\n",
    "\n",
    "#### 3.3.1 Default Parameters"
   ]
  },
  {
   "cell_type": "code",
   "execution_count": 54,
   "metadata": {},
   "outputs": [
    {
     "data": {
      "text/plain": [
       "GaussianNB()"
      ]
     },
     "execution_count": 54,
     "metadata": {},
     "output_type": "execute_result"
    }
   ],
   "source": [
    "# Model declaration and training\n",
    "\n",
    "nb_model = GaussianNB()\n",
    "nb_model.fit(X_train, y_train)"
   ]
  },
  {
   "cell_type": "code",
   "execution_count": 55,
   "metadata": {},
   "outputs": [],
   "source": [
    "# Model prediction\n",
    "\n",
    "nb_pred_train = nb_model.predict(X_train)\n",
    "nb_pred_test = nb_model.predict(X_test)"
   ]
  },
  {
   "cell_type": "code",
   "execution_count": 56,
   "metadata": {},
   "outputs": [
    {
     "name": "stdout",
     "output_type": "stream",
     "text": [
      "--- Train Set Scores ---\n",
      "Accuracy: 0.39\n",
      "F1 score: 0.36\n",
      "\n",
      "--- Test Set Scores ---\n",
      "Accuracy: 0.23\n",
      "F1 score: 0.22\n"
     ]
    }
   ],
   "source": [
    "# Scores\n",
    "\n",
    "nb_score = classification_score(nb_pred_train, nb_pred_test, \n",
    "                                y_train, y_test)"
   ]
  },
  {
   "cell_type": "code",
   "execution_count": 57,
   "metadata": {},
   "outputs": [
    {
     "data": {
      "image/png": "[encoded data removed]",
      "text/plain": [
       "<Figure size 432x288 with 2 Axes>"
      ]
     },
     "metadata": {},
     "output_type": "display_data"
    }
   ],
   "source": [
    "# Confusion Matrices\n",
    "\n",
    "confusion(nb_model, X_train, y_train, \n",
    "          \"Train set Naive Bayes prediction - Confusion matrix\")"
   ]
  },
  {
   "cell_type": "code",
   "execution_count": 58,
   "metadata": {},
   "outputs": [
    {
     "data": {
      "image/png": "[encoded data removed]",
      "text/plain": [
       "<Figure size 432x288 with 2 Axes>"
      ]
     },
     "metadata": {},
     "output_type": "display_data"
    }
   ],
   "source": [
    "confusion(nb_model, X_test, y_test, \n",
    "          \"Test set Naive Bayes prediction - Confusion matrix\")"
   ]
  },
  {
   "cell_type": "markdown",
   "metadata": {},
   "source": [
    "#### 3.3.2 GridSearch\n",
    "\n",
    "Naive Bayes, being naive, does not offer much hyperparameters to play with beside sample_weight (i.e. weights applied to individual samples). As such, we do not perform GridSearch for Naive Bayes."
   ]
  },
  {
   "cell_type": "markdown",
   "metadata": {},
   "source": [
    "<hr>\n",
    "\n",
    "### 3.4 Random Forest\n",
    "\n",
    "Similar to logistic regression, we see below that the Random Forest model has a difficulty identifying data points tagged with the target variable \"DEATH\".\n",
    "\n",
    "#### 3.4.1 Default Parameters"
   ]
  },
  {
   "cell_type": "code",
   "execution_count": 59,
   "metadata": {},
   "outputs": [
    {
     "data": {
      "text/plain": [
       "RandomForestClassifier()"
      ]
     },
     "execution_count": 59,
     "metadata": {},
     "output_type": "execute_result"
    }
   ],
   "source": [
    "# Model declaration and training\n",
    "\n",
    "rf_model = RandomForestClassifier()\n",
    "rf_model.fit(X_train, y_train)"
   ]
  },
  {
   "cell_type": "code",
   "execution_count": 60,
   "metadata": {},
   "outputs": [],
   "source": [
    "# Model prediction\n",
    "\n",
    "rf_pred_train = rf_model.predict(X_train)\n",
    "rf_pred_test = rf_model.predict(X_test)"
   ]
  },
  {
   "cell_type": "code",
   "execution_count": 61,
   "metadata": {},
   "outputs": [
    {
     "name": "stdout",
     "output_type": "stream",
     "text": [
      "--- Train Set Scores ---\n",
      "Accuracy: 1.00\n",
      "F1 score: 1.00\n",
      "\n",
      "--- Test Set Scores ---\n",
      "Accuracy: 0.62\n",
      "F1 score: 0.66\n"
     ]
    }
   ],
   "source": [
    "# Scores\n",
    "rf_score = classification_score(rf_pred_train, rf_pred_test, \n",
    "                                y_train, y_test)"
   ]
  },
  {
   "cell_type": "code",
   "execution_count": 62,
   "metadata": {},
   "outputs": [
    {
     "data": {
      "image/png": "[encoded data removed]",
      "text/plain": [
       "<Figure size 432x288 with 2 Axes>"
      ]
     },
     "metadata": {},
     "output_type": "display_data"
    }
   ],
   "source": [
    "# Confusion Matrices\n",
    "\n",
    "confusion(rf_model, X_train, y_train, \n",
    "          \"Train set Random Forest prediction - Confusion matrix\")"
   ]
  },
  {
   "cell_type": "code",
   "execution_count": 63,
   "metadata": {},
   "outputs": [
    {
     "data": {
      "image/png": "[encoded data removed]",
      "text/plain": [
       "<Figure size 432x288 with 2 Axes>"
      ]
     },
     "metadata": {},
     "output_type": "display_data"
    }
   ],
   "source": [
    "confusion(rf_model, X_test, y_test, \n",
    "          \"Test set Random Forest prediction - Confusion matrix\")"
   ]
  },
  {
   "cell_type": "markdown",
   "metadata": {},
   "source": [
    "#### 3.2.2 GridSearch"
   ]
  },
  {
   "cell_type": "code",
   "execution_count": 64,
   "metadata": {},
   "outputs": [
    {
     "data": {
      "text/plain": [
       "GridSearchCV(estimator=RandomForestClassifier(),\n",
       "             param_grid={'criterion': ('gini', 'entropy'),\n",
       "                         'max_depth': [5, 6, 7, 8, 9, 10, 11, 12, 13, 14, 15,\n",
       "                                       16, 17, 18, 19, 20, 21, 22, 23, 24, 25,\n",
       "                                       26, 27, 28, 29, 30, 31, 32, 33, 34, ...],\n",
       "                         'max_features': ('auto', 'sqrt', 'log2')})"
      ]
     },
     "execution_count": 64,
     "metadata": {},
     "output_type": "execute_result"
    }
   ],
   "source": [
    "# Going further with GridSearch\n",
    "\n",
    "parameters = {\"criterion\":(\"gini\", \"entropy\"),\n",
    "              \"max_features\":(\"auto\", \"sqrt\", \"log2\"),\n",
    "              \"max_depth\": list(range(5, 40))}\n",
    "\n",
    "# Model declaration and training\n",
    "\n",
    "rf_model = RandomForestClassifier()\n",
    "rf_grid_search = GridSearchCV(rf_model, parameters)\n",
    "rf_grid_search.fit(X_train, y_train)"
   ]
  },
  {
   "cell_type": "code",
   "execution_count": 65,
   "metadata": {},
   "outputs": [
    {
     "data": {
      "text/plain": [
       "{'criterion': 'entropy', 'max_depth': 31, 'max_features': 'sqrt'}"
      ]
     },
     "execution_count": 65,
     "metadata": {},
     "output_type": "execute_result"
    }
   ],
   "source": [
    "# Prints the best parameters\n",
    "\n",
    "rf_grid_search.best_params_"
   ]
  },
  {
   "cell_type": "code",
   "execution_count": 66,
   "metadata": {},
   "outputs": [
    {
     "name": "stdout",
     "output_type": "stream",
     "text": [
      "--- Train Set Scores ---\n",
      "Accuracy: 0.86\n",
      "F1 score: 0.87\n",
      "\n",
      "--- Test Set Scores ---\n",
      "Accuracy: 0.63\n",
      "F1 score: 0.69\n"
     ]
    }
   ],
   "source": [
    "# Model prediction\n",
    "\n",
    "rf_grid_pred_train = rf_grid_search.predict(X_train)\n",
    "rf_grid_pred_test = rf_grid_search.predict(X_test)\n",
    "\n",
    "# Scores\n",
    "\n",
    "rf_grid_score = classification_score(rf_grid_pred_train, rf_grid_pred_test, \n",
    "                                     y_train, y_test)"
   ]
  },
  {
   "cell_type": "markdown",
   "metadata": {},
   "source": [
    "<hr>\n",
    "\n",
    "### 3.5 Support Vector Machine\n",
    "\n",
    "Similar to logistic regression, we see below that the KNN model has a difficulty identifying data points tagged with the target variable \"DEATH\".\n",
    "\n",
    "#### 3.5.1 Default Parameters"
   ]
  },
  {
   "cell_type": "code",
   "execution_count": 67,
   "metadata": {},
   "outputs": [
    {
     "data": {
      "text/plain": [
       "SVC()"
      ]
     },
     "execution_count": 67,
     "metadata": {},
     "output_type": "execute_result"
    }
   ],
   "source": [
    "# Model declaration and training\n",
    "\n",
    "svc_model = SVC()\n",
    "svc_model.fit(X_train, y_train)"
   ]
  },
  {
   "cell_type": "code",
   "execution_count": 68,
   "metadata": {},
   "outputs": [],
   "source": [
    "# Model prediction\n",
    "\n",
    "svc_pred_train = svc_model.predict(X_train)\n",
    "svc_pred_test = svc_model.predict(X_test)"
   ]
  },
  {
   "cell_type": "code",
   "execution_count": 69,
   "metadata": {},
   "outputs": [
    {
     "name": "stdout",
     "output_type": "stream",
     "text": [
      "--- Train Set Scores ---\n",
      "Accuracy: 0.72\n",
      "F1 score: 0.77\n",
      "\n",
      "--- Test Set Scores ---\n",
      "Accuracy: 0.62\n",
      "F1 score: 0.68\n"
     ]
    }
   ],
   "source": [
    "# Scores\n",
    "svc_score = classification_score(svc_pred_train, svc_pred_test, \n",
    "                                 y_train, y_test)"
   ]
  },
  {
   "cell_type": "code",
   "execution_count": 70,
   "metadata": {},
   "outputs": [
    {
     "data": {
      "image/png": "[encoded data removed]",
      "text/plain": [
       "<Figure size 432x288 with 2 Axes>"
      ]
     },
     "metadata": {},
     "output_type": "display_data"
    }
   ],
   "source": [
    "# Confusion Matrices\n",
    "\n",
    "confusion(svc_model, X_train, y_train, \n",
    "          \"Train set SVC prediction - Confusion matrix\")"
   ]
  },
  {
   "cell_type": "code",
   "execution_count": 71,
   "metadata": {},
   "outputs": [
    {
     "data": {
      "image/png": "[encoded data removed]",
      "text/plain": [
       "<Figure size 432x288 with 2 Axes>"
      ]
     },
     "metadata": {},
     "output_type": "display_data"
    }
   ],
   "source": [
    "confusion(svc_model, X_test, y_test, \n",
    "          \"Test set SVC prediction - Confusion matrix\")"
   ]
  },
  {
   "cell_type": "markdown",
   "metadata": {},
   "source": [
    "#### 3.5.2 GridSearch"
   ]
  },
  {
   "cell_type": "code",
   "execution_count": 72,
   "metadata": {},
   "outputs": [
    {
     "data": {
      "text/plain": [
       "GridSearchCV(estimator=SVC(),\n",
       "             param_grid={'decision_function_shape': ('ovo', 'ovr'),\n",
       "                         'degree': [3, 4, 5, 6, 7, 8, 9, 10, 11, 12, 13, 14, 15,\n",
       "                                    16, 17, 18, 19],\n",
       "                         'kernel': ('linear', 'poly', 'rbf')})"
      ]
     },
     "execution_count": 72,
     "metadata": {},
     "output_type": "execute_result"
    }
   ],
   "source": [
    "# Going further with GridSearch\n",
    "\n",
    "parameters = {\"kernel\":(\"linear\", \"poly\", \"rbf\"),\n",
    "              \"decision_function_shape\":(\"ovo\", \"ovr\"),\n",
    "              \"degree\": list(range(3, 20))}\n",
    "\n",
    "# Model declaration and training\n",
    "\n",
    "svc_model = SVC()\n",
    "svc_grid_search = GridSearchCV(svc_model, parameters)\n",
    "svc_grid_search.fit(X_train, y_train)"
   ]
  },
  {
   "cell_type": "code",
   "execution_count": 73,
   "metadata": {},
   "outputs": [
    {
     "data": {
      "text/plain": [
       "{'decision_function_shape': 'ovo', 'degree': 3, 'kernel': 'rbf'}"
      ]
     },
     "execution_count": 73,
     "metadata": {},
     "output_type": "execute_result"
    }
   ],
   "source": [
    "# Prints the best parameters\n",
    "\n",
    "svc_grid_search.best_params_"
   ]
  },
  {
   "cell_type": "code",
   "execution_count": 74,
   "metadata": {},
   "outputs": [
    {
     "name": "stdout",
     "output_type": "stream",
     "text": [
      "--- Train Set Scores ---\n",
      "Accuracy: 0.72\n",
      "F1 score: 0.77\n",
      "\n",
      "--- Test Set Scores ---\n",
      "Accuracy: 0.62\n",
      "F1 score: 0.68\n"
     ]
    }
   ],
   "source": [
    "# Model prediction\n",
    "\n",
    "svc_grid_pred_train = svc_grid_search.predict(X_train)\n",
    "svc_grid_pred_test = svc_grid_search.predict(X_test)\n",
    "\n",
    "# Scores\n",
    "\n",
    "svc_grid_score = classification_score(svc_grid_pred_train, svc_grid_pred_test, \n",
    "                                      y_train, y_test)"
   ]
  },
  {
   "cell_type": "markdown",
   "metadata": {},
   "source": [
    "<hr>\n",
    "\n",
    "### 3.6 Boosting\n",
    "\n",
    "Similar to logistic regression, but at a lesser extent, we see below that the KNN model has a difficulty identifying data points tagged with the target variable \"DEATH\".\n",
    "\n",
    "#### 3.6.1 Default Parameters"
   ]
  },
  {
   "cell_type": "code",
   "execution_count": 75,
   "metadata": {},
   "outputs": [
    {
     "data": {
      "text/plain": [
       "AdaBoostClassifier()"
      ]
     },
     "execution_count": 75,
     "metadata": {},
     "output_type": "execute_result"
    }
   ],
   "source": [
    "# Model declaration and training\n",
    "\n",
    "boost_model = AdaBoostClassifier()\n",
    "boost_model.fit(X_train, y_train)"
   ]
  },
  {
   "cell_type": "code",
   "execution_count": 76,
   "metadata": {},
   "outputs": [],
   "source": [
    "# Model prediction\n",
    "\n",
    "boost_pred_train = boost_model.predict(X_train)\n",
    "boost_pred_test = boost_model.predict(X_test)"
   ]
  },
  {
   "cell_type": "code",
   "execution_count": 77,
   "metadata": {},
   "outputs": [
    {
     "name": "stdout",
     "output_type": "stream",
     "text": [
      "--- Train Set Scores ---\n",
      "Accuracy: 0.65\n",
      "F1 score: 0.69\n",
      "\n",
      "--- Test Set Scores ---\n",
      "Accuracy: 0.61\n",
      "F1 score: 0.66\n"
     ]
    }
   ],
   "source": [
    "# Scores\n",
    "boost_score = classification_score(boost_pred_train, boost_pred_test, \n",
    "                                   y_train, y_test)"
   ]
  },
  {
   "cell_type": "code",
   "execution_count": 78,
   "metadata": {},
   "outputs": [
    {
     "data": {
      "image/png": "[encoded data removed]",
      "text/plain": [
       "<Figure size 432x288 with 2 Axes>"
      ]
     },
     "metadata": {},
     "output_type": "display_data"
    }
   ],
   "source": [
    "# Confusion Matrices\n",
    "\n",
    "confusion(boost_model, X_train, y_train, \n",
    "          \"Train set Boosting prediction - Confusion matrix\")"
   ]
  },
  {
   "cell_type": "code",
   "execution_count": 79,
   "metadata": {},
   "outputs": [
    {
     "data": {
      "image/png": "[encoded data removed]",
      "text/plain": [
       "<Figure size 432x288 with 2 Axes>"
      ]
     },
     "metadata": {},
     "output_type": "display_data"
    }
   ],
   "source": [
    "confusion(boost_model, X_test, y_test, \n",
    "          \"Test set Boosting prediction - Confusion matrix\")"
   ]
  },
  {
   "cell_type": "markdown",
   "metadata": {},
   "source": [
    "#### 3.6.2 GridSearch"
   ]
  },
  {
   "cell_type": "code",
   "execution_count": 80,
   "metadata": {},
   "outputs": [
    {
     "data": {
      "text/plain": [
       "GridSearchCV(estimator=AdaBoostClassifier(),\n",
       "             param_grid={'algorithm': ('SAMME', 'SAMME.R'),\n",
       "                         'learning_rate': [0.5, 0.6, 0.7, 0.8, 0.9, 1.0, 1.1,\n",
       "                                           1.2, 1.3, 1.4, 1.5, 1.6, 1.7, 1.8,\n",
       "                                           1.9],\n",
       "                         'n_estimators': [20, 25, 30, 35, 40, 45, 50, 55, 60,\n",
       "                                          65, 70, 75, 80, 85, 90, 95]})"
      ]
     },
     "execution_count": 80,
     "metadata": {},
     "output_type": "execute_result"
    }
   ],
   "source": [
    "# Going further with GridSearch\n",
    "\n",
    "parameters = {\"algorithm\":(\"SAMME\", \"SAMME.R\"),\n",
    "              \"learning_rate\":list(map(lambda x: x/10, range(5, 20))),\n",
    "              \"n_estimators\": list(range(20, 100, 5))}\n",
    "\n",
    "# Model declaration and training\n",
    "\n",
    "boost_model = AdaBoostClassifier()\n",
    "boost_grid_search = GridSearchCV(boost_model, parameters)\n",
    "boost_grid_search.fit(X_train, y_train)"
   ]
  },
  {
   "cell_type": "code",
   "execution_count": 81,
   "metadata": {},
   "outputs": [
    {
     "data": {
      "text/plain": [
       "{'algorithm': 'SAMME.R', 'learning_rate': 0.6, 'n_estimators': 95}"
      ]
     },
     "execution_count": 81,
     "metadata": {},
     "output_type": "execute_result"
    }
   ],
   "source": [
    "# Prints the best parameters\n",
    "\n",
    "boost_grid_search.best_params_"
   ]
  },
  {
   "cell_type": "code",
   "execution_count": 82,
   "metadata": {},
   "outputs": [
    {
     "name": "stdout",
     "output_type": "stream",
     "text": [
      "--- Train Set Scores ---\n",
      "Accuracy: 0.67\n",
      "F1 score: 0.70\n",
      "\n",
      "--- Test Set Scores ---\n",
      "Accuracy: 0.61\n",
      "F1 score: 0.67\n"
     ]
    }
   ],
   "source": [
    "# Model prediction\n",
    "\n",
    "boost_grid_pred_train = boost_grid_search.predict(X_train)\n",
    "boost_grid_pred_test = boost_grid_search.predict(X_test)\n",
    "\n",
    "# Scores\n",
    "\n",
    "boost_grid_score = classification_score(boost_grid_pred_train, boost_grid_pred_test, \n",
    "                                        y_train, y_test)"
   ]
  },
  {
   "cell_type": "markdown",
   "metadata": {},
   "source": [
    "### 3.7 Summarizing Results\n",
    "\n",
    "Based on the results above, we find that the two best models are **logistic regression** and **random forest**. However, since that their F1 scores are very similar, we use the accuracy score to discriminate between the two models.\n",
    "\n",
    "**Consequently, we choose to select Random Forest as our best model**, yielding the following scores:\n",
    "\n",
    "| Metric | Train Set | Test Set |\n",
    "| :--- | :---: | :---: |\n",
    "| Accuracy | 0.86 | 0.63 |\n",
    "| F1 score | 0.87 | 0.69 |\n",
    "\n",
    "\n",
    "With the following parameters:\n",
    "\n",
    "| Parameter | Value | Note |\n",
    "| :--- | :---: | :---: |\n",
    "| Criterion | entropy | measure the quality of a split |\n",
    "| Max depth | 31 | maximum tree depth |\n",
    "| Max features | sqrt | number of features to consider when looking for the best split: $max\\_features=\\sqrt{n_{features}}$ |\n",
    "\n",
    "<u>Notes:</u>\n",
    "\n",
    "The **entropy** criterion is a measure of the disorder or unpredictability in a system. Given a two-class classification $C$, and a sample set $S$, the class distribution at any node can be written as $(p_0, p_1)$ where $p_1 = 1-p_0$ and the entropy of S is the sum of the information:\n",
    "\n",
    "$$E(S) = -p_0 \\times log_2(p_0) - p_1 \\times log_2(p_1)$$\n",
    "\n",
    "Meanwhile, the **gini criterion** refer to the probability of classifying a datapoint incorrectly in a dataset as part of building the random forest classifier.\n",
    "\n",
    "For $C$ total classes (here 3: \"READMISSION\", \"REMISSION\", and \"DEATH\"), and $p(i)$ the probability of picking a datapoint with class $i$, the Gini Impurity is calculated as:\n",
    "\n",
    "$$G = \\underset{i=1}{\\overset{C}{\\sum}}p(i)*(1-p(i))$$\n",
    "\n",
    "We want to minimize this gini impurity metrics (a gini impurity of 0 implies a perfect split of the dataset). "
   ]
  },
  {
   "cell_type": "code",
   "execution_count": 83,
   "metadata": {},
   "outputs": [
    {
     "data": {
      "text/plain": [
       "<Figure size 1080x1080 with 0 Axes>"
      ]
     },
     "metadata": {},
     "output_type": "display_data"
    },
    {
     "data": {
      "image/png": "[encoded data removed]",
      "text/plain": [
       "<Figure size 480.1x360 with 1 Axes>"
      ]
     },
     "metadata": {},
     "output_type": "display_data"
    }
   ],
   "source": [
    "# We plot the results obtained from our best models across all 4 methods\n",
    "\n",
    "results = {\"Logistic\\nRegression\":lr_grid_score,\n",
    "           \"KNN\":knn_grid_score,\n",
    "           \"Naive\\nBayes\":nb_score,\n",
    "           \"Random\\nForest\":rf_grid_score,\n",
    "           \"SVC\":svc_grid_score,\n",
    "           \"Boosting\":boost_grid_score}\n",
    "\n",
    "results = pd.DataFrame.from_dict(results).melt()\n",
    "\n",
    "scores = cycle([\"Train Accuracy\",\"Test Accuracy\",\"Train F1 score\",\"Test F1 score\"])\n",
    "results['score'] = [next(scores) for _ in range(len(results))]\n",
    "results.rename(columns = {'variable':'model'}, inplace=True) \n",
    "\n",
    "plt.figure(figsize=(15,15))\n",
    "plot = sns.catplot(x=\"model\", y=\"value\", hue=\"score\", kind=\"bar\", data=results)"
   ]
  },
  {
   "cell_type": "markdown",
   "metadata": {},
   "source": [
    "## 4. Exploring our best model\n",
    "\n",
    "### 4.1 Removing ETHNICITY from the dataset\n",
    "\n",
    "We come back to our note with regards to the dataset (made in Part 2: Data pre-processing).\n",
    "\n",
    "> consequently, we will need to see if ethnicity has a strong effect on our end result, and, if possible, whether we can do without it.\n",
    "\n",
    "To do so, we go back to our training and testing dataset and remove the one-hot encoding columns built out of the ETHNICITY variable (present in our original dataset).\n",
    "\n",
    "The goal here is to:\n",
    "\n",
    "1. Train a Random Forest Classifier with the same parameters found to maximize our results above, but without using ethnic data\n",
    "\n",
    "2. Compare the results\n",
    "\n",
    "3. Draw preliminary interpretations with regards to the variable ETHNICITY\n",
    "\n",
    "<u>Observations (See code cells below):</u>\n",
    "\n",
    "We see that removing ETHNICITY from the dataset has a very minor impact on the obtained scores on the testing set:\n",
    "\n",
    "| Metric | Train Set | Test Set |\n",
    "| :--- | :---: | :---: |\n",
    "| Accuracy - With ETHNICITY | 0.86 | 0.63 |\n",
    "| Accuracy - Without ETHNICITY | 0.81 | 0.62 |\n",
    "| F1 score - with ETHNICITY | 0.87 | 0.69 |\n",
    "| F1 score - without ETHNICITY | 0.83 | 0.69 |\n",
    "\n",
    "- Training accuracy and F1 scores went down by 5 and 4 basis points respectively\n",
    "- Testing accuracy and F1 scores went down by 1 and 0 basis points respectively\n",
    "\n",
    "Consequently, we can raise doubts on the usefulness of collecting/using this specific data as part of this type of prediction modeling. There is no question that relying on this variable can be risky and would raise ethical concerns as, beyond the realm of re-hospitalization prediction, the use of ethnic data presents a high risk of misuse (e.g. AI ethicists fear the return of physiognomy in today's discourse, for instance with the power of facial recognition and ethnic profiling. In 2016, a research paper attracted heavy criticism by attempting to infer criminality from facial features).\n",
    "\n",
    "<hr>"
   ]
  },
  {
   "cell_type": "code",
   "execution_count": 84,
   "metadata": {},
   "outputs": [],
   "source": [
    "# Removing the ethnic data from our train and test datasets\n",
    "\n",
    "X_train_wo_eth = X_train[X_train.columns.drop(list(X_train.filter(regex='ETHNICITY')))]\n",
    "X_test_wo_eth = X_test[X_test.columns.drop(list(X_test.filter(regex='ETHNICITY')))]"
   ]
  },
  {
   "cell_type": "code",
   "execution_count": 85,
   "metadata": {},
   "outputs": [],
   "source": [
    "# Assigning the Random Forest best parameters to variables\n",
    "\n",
    "criterion = \"entropy\"\n",
    "max_depth = 31\n",
    "max_features = \"sqrt\""
   ]
  },
  {
   "cell_type": "code",
   "execution_count": 86,
   "metadata": {},
   "outputs": [
    {
     "data": {
      "text/plain": [
       "RandomForestClassifier(criterion='entropy', max_depth=31, max_features='sqrt')"
      ]
     },
     "execution_count": 86,
     "metadata": {},
     "output_type": "execute_result"
    }
   ],
   "source": [
    "# Model declaration and training\n",
    "\n",
    "rf_model_wo_eth = RandomForestClassifier(criterion=criterion, \n",
    "                                         max_depth=max_depth, \n",
    "                                         max_features=max_features)\n",
    "\n",
    "rf_model_wo_eth.fit(X_train_wo_eth, y_train)"
   ]
  },
  {
   "cell_type": "code",
   "execution_count": 87,
   "metadata": {},
   "outputs": [],
   "source": [
    "# Model prediction\n",
    "\n",
    "rf_pred_train_wo_eth = rf_model_wo_eth.predict(X_train_wo_eth)\n",
    "rf_pred_test_wo_eth = rf_model_wo_eth.predict(X_test_wo_eth)"
   ]
  },
  {
   "cell_type": "code",
   "execution_count": 88,
   "metadata": {},
   "outputs": [
    {
     "name": "stdout",
     "output_type": "stream",
     "text": [
      "--- Train Set Scores ---\n",
      "Accuracy: 0.81\n",
      "F1 score: 0.83\n",
      "\n",
      "--- Test Set Scores ---\n",
      "Accuracy: 0.62\n",
      "F1 score: 0.69\n"
     ]
    }
   ],
   "source": [
    "# Scores\n",
    "\n",
    "rf_score_wo_eth = classification_score(rf_pred_train_wo_eth, rf_pred_test_wo_eth, \n",
    "                                       y_train, y_test)"
   ]
  },
  {
   "cell_type": "code",
   "execution_count": 89,
   "metadata": {
    "scrolled": false
   },
   "outputs": [
    {
     "data": {
      "text/plain": [
       "<Figure size 1080x1080 with 0 Axes>"
      ]
     },
     "metadata": {},
     "output_type": "display_data"
    },
    {
     "data": {
      "image/png": "[encoded data removed]",
      "text/plain": [
       "<Figure size 480.1x360 with 1 Axes>"
      ]
     },
     "metadata": {},
     "output_type": "display_data"
    }
   ],
   "source": [
    "# We plot the results obtained from our best models across all \n",
    "# 4 methods\n",
    "\n",
    "results = {\"Random\\nForest\\nwith ETHNICITY\":rf_grid_score,\n",
    "           \"Random\\nForest\\nw/o ETHNICITY\":rf_score_wo_eth}\n",
    "\n",
    "results = pd.DataFrame.from_dict(results).melt()\n",
    "\n",
    "scores = cycle([\"Train Accuracy\",\"Test Accuracy\",\"Train F1 score\",\"Test F1 score\"])\n",
    "results['score'] = [next(scores) for _ in range(len(results))]\n",
    "results.rename(columns = {'variable':'model'}, inplace=True) \n",
    "\n",
    "plt.figure(figsize=(15,15))\n",
    "plot = sns.catplot(x=\"model\", y=\"value\", hue=\"score\", kind=\"bar\", data=results)"
   ]
  },
  {
   "cell_type": "markdown",
   "metadata": {},
   "source": [
    "<hr>\n",
    "\n",
    "\n",
    "### 4.2 Performing PCA on our Bag of Words representation\n",
    "\n",
    "We are looking to reduce the size of our training and testing sets. As such, we might want to explore Principal Component Analysis (PCA) to do that by targeting our Bag of Words representation of the DIAGNOSIS column from the original data.\n",
    "\n",
    "We will apply PCA to the dataset and see how many dimensions we need in the embedded space to obtain a 99% explained variance.\n",
    "\n",
    "<u>Observations (See code cells below):</u>\n",
    "\n",
    "We see that, thanks to PCA, we can reduce our dataset size by reducing the dimension of our Bag of Words representation of the DIAGNOSIS column, which we previously created. Using a PCA result that explains 99% of the variance in the bag of words, we see the following results:\n",
    "\n",
    "| Metric | Train Set | Test Set |\n",
    "| :--- | :---: | :---: |\n",
    "| Accuracy | 0.86 | 0.63 |\n",
    "| Accuracy - with PCA | 1.0 | 0.60 |\n",
    "| F1 score | 0.87 | 0.69 |\n",
    "| F1 score - with PCA | 1.0 | 0.64 |\n",
    "\n",
    "- The accuracy and F1 scores over the training set increase to 1\n",
    "\n",
    "- However, performing CPA leads to a reduction in the test accuracy and F1 score by a factor of 3 and 5 basis points respectively"
   ]
  },
  {
   "cell_type": "code",
   "execution_count": 90,
   "metadata": {},
   "outputs": [],
   "source": [
    "# Retrieving the bag of word representation from our pre-processed \n",
    "# dataset\n",
    "\n",
    "X_train_bow = X_train[cv.get_feature_names()]\n",
    "X_test_bow = X_test[cv.get_feature_names()]"
   ]
  },
  {
   "cell_type": "code",
   "execution_count": 91,
   "metadata": {},
   "outputs": [
    {
     "name": "stdout",
     "output_type": "stream",
     "text": [
      "\n",
      "99% variance explained mark reached at:\n",
      " 525 components\n"
     ]
    }
   ],
   "source": [
    "# Fitting a PCA model to find the number of components that has a 99%\n",
    "# explained variance\n",
    "\n",
    "number_of_components = 1\n",
    "\n",
    "while True:\n",
    "    pca_model = PCA(n_components=number_of_components, \n",
    "                    svd_solver='full')\n",
    "    pca_model.fit(X_train_bow)\n",
    "    if sum(pca_model.explained_variance_ratio_)>=0.99:\n",
    "        X_train_pca = pca_model.transform(X_train_bow)\n",
    "        X_test_pca = pca_model.transform(X_test_bow)\n",
    "        print(\"\\n99% variance explained mark reached at:\\n\",\n",
    "              f\"{number_of_components} components\")\n",
    "        break\n",
    "    number_of_components += 1"
   ]
  },
  {
   "cell_type": "code",
   "execution_count": 92,
   "metadata": {},
   "outputs": [],
   "source": [
    "# Replacing the bag of word representation in the train and test\n",
    "# datasets with the PCA\n",
    "\n",
    "X_train_pca = pd.concat([X_train.drop(cv.get_feature_names(), axis=1), \n",
    "                       pd.DataFrame(X_train_pca)], axis = 1)\n",
    "X_test_pca = pd.concat([X_test.drop(cv.get_feature_names(), axis=1), \n",
    "                       pd.DataFrame(X_test_pca)], axis = 1)"
   ]
  },
  {
   "cell_type": "code",
   "execution_count": 93,
   "metadata": {},
   "outputs": [
    {
     "data": {
      "text/plain": [
       "RandomForestClassifier(criterion='entropy', max_depth=31, max_features='sqrt')"
      ]
     },
     "execution_count": 93,
     "metadata": {},
     "output_type": "execute_result"
    }
   ],
   "source": [
    "# Model declaration and training\n",
    "\n",
    "rf_model_PCA = RandomForestClassifier(criterion=criterion, \n",
    "                                      max_depth=max_depth,\n",
    "                                      max_features=max_features)\n",
    "\n",
    "rf_model_PCA.fit(X_train_pca, y_train)"
   ]
  },
  {
   "cell_type": "code",
   "execution_count": 94,
   "metadata": {},
   "outputs": [],
   "source": [
    "# Model prediction\n",
    "\n",
    "rf_pred_train_PCA = rf_model_PCA.predict(X_train_pca)\n",
    "rf_pred_test_PCA = rf_model_PCA.predict(X_test_pca)"
   ]
  },
  {
   "cell_type": "code",
   "execution_count": 96,
   "metadata": {},
   "outputs": [
    {
     "name": "stdout",
     "output_type": "stream",
     "text": [
      "--- Train Set Scores ---\n",
      "Accuracy: 1.00\n",
      "F1 score: 1.00\n",
      "\n",
      "--- Test Set Scores ---\n",
      "Accuracy: 0.60\n",
      "F1 score: 0.64\n"
     ]
    }
   ],
   "source": [
    "# Scores\n",
    "\n",
    "rf_score_PCA = classification_score(rf_pred_train_PCA, rf_pred_test_PCA, \n",
    "                                    y_train, y_test)"
   ]
  },
  {
   "cell_type": "code",
   "execution_count": 97,
   "metadata": {
    "scrolled": false
   },
   "outputs": [
    {
     "data": {
      "text/plain": [
       "<Figure size 1080x1080 with 0 Axes>"
      ]
     },
     "metadata": {},
     "output_type": "display_data"
    },
    {
     "data": {
      "image/png": "[encoded data removed]",
      "text/plain": [
       "<Figure size 480.1x360 with 1 Axes>"
      ]
     },
     "metadata": {},
     "output_type": "display_data"
    }
   ],
   "source": [
    "# We plot the results obtained from our best models across all \n",
    "# 4 methods\n",
    "\n",
    "results = {\"Random\\nForest\":rf_grid_score,\n",
    "           \"Random\\nForest\\nwith PCA\":rf_score_PCA}\n",
    "\n",
    "results = pd.DataFrame.from_dict(results).melt()\n",
    "\n",
    "scores = cycle([\"Train Accuracy\",\"Test Accuracy\",\"Train F1 score\",\"Test F1 score\"])\n",
    "results['score'] = [next(scores) for _ in range(len(results))]\n",
    "results.rename(columns = {'variable':'model'}, inplace=True) \n",
    "\n",
    "plt.figure(figsize=(15,15))\n",
    "plot = sns.catplot(x=\"model\", y=\"value\", hue=\"score\", kind=\"bar\", data=results)"
   ]
  },
  {
   "cell_type": "markdown",
   "metadata": {},
   "source": [
    "<hr>\n",
    "\n",
    "\n",
    "### 4.3 Binary Classification\n",
    "\n",
    "Up until now, we have looked at performing a 3-class classification problem. I.e. we wanted to predict either READMISSION, DEATH or REMISSION. If we are **purely interested in READMISSION**, we can **merge DEATH and REMISSION** in our target dataset.\n",
    "\n",
    "<u>Observations (See code cells below):</u>\n",
    "\n",
    "We see that by going for a binary classification, using grid search, we don't find a much better result in terms of accuracy or F1 score on the test dataset.\n",
    "\n",
    "| Parameter | Mix maximizing a 3-class classification | Mix maximizing a binary classification |\n",
    "| :--- | :---: | :---: |\n",
    "| Criterion | entropy | entropy |\n",
    "| Max depth | 31 | 43 |\n",
    "| Max features | sqrt | sqrt |\n",
    "\n",
    "| Metric | Train Set | Test Set |\n",
    "| :--- | :---: | :---: |\n",
    "| Accuracy | 0.86 | 0.63 |\n",
    "| Accuracy - with only 2 classes | 0.91 | 0.67 |\n",
    "| F1 score | 0.87 | 0.69 |\n",
    "| F1 score - with only 2 classes | 0.92 | 0.70 |\n",
    "\n",
    "As such, we can infer that **in the case of binary classification, a random forest classifier might not be the best model to go for**."
   ]
  },
  {
   "cell_type": "code",
   "execution_count": 98,
   "metadata": {},
   "outputs": [],
   "source": [
    "# We replace DEATH and REMISSION instances with NEVER_REHOSPITALIZED, \n",
    "# creating a binary classification problem\n",
    "\n",
    "y_train_binary = y_train.copy()\n",
    "y_test_binary = y_test.copy()\n",
    "\n",
    "y_train_binary[y_train_binary==\"DEAD\"]=\"NEVER_REHOSPITALIZED\"\n",
    "y_train_binary[y_train_binary==\"REMISSION\"]=\"NEVER_REHOSPITALIZED\"\n",
    "y_test_binary[y_test_binary==\"DEAD\"]=\"NEVER_REHOSPITALIZED\"\n",
    "y_test_binary[y_test_binary==\"REMISSION\"]=\"NEVER_REHOSPITALIZED\""
   ]
  },
  {
   "cell_type": "code",
   "execution_count": 99,
   "metadata": {},
   "outputs": [
    {
     "data": {
      "text/plain": [
       "GridSearchCV(estimator=RandomForestClassifier(),\n",
       "             param_grid={'criterion': ('gini', 'entropy'),\n",
       "                         'max_depth': [5, 6, 7, 8, 9, 10, 11, 12, 13, 14, 15,\n",
       "                                       16, 17, 18, 19, 20, 21, 22, 23, 24, 25,\n",
       "                                       26, 27, 28, 29, 30, 31, 32, 33, 34, ...],\n",
       "                         'max_features': ('auto', 'sqrt', 'log2')})"
      ]
     },
     "execution_count": 99,
     "metadata": {},
     "output_type": "execute_result"
    }
   ],
   "source": [
    "# Going further with GridSearch\n",
    "\n",
    "parameters = {\"criterion\":(\"gini\", \"entropy\"),\n",
    "              \"max_features\":(\"auto\", \"sqrt\", \"log2\"),\n",
    "              \"max_depth\": list(range(5, 50))}\n",
    "\n",
    "# Model declaration and training\n",
    "\n",
    "rf_model = RandomForestClassifier()\n",
    "rf_model_binary = GridSearchCV(rf_model, parameters)\n",
    "rf_model_binary.fit(X_train, y_train_binary)"
   ]
  },
  {
   "cell_type": "code",
   "execution_count": 100,
   "metadata": {},
   "outputs": [
    {
     "data": {
      "text/plain": [
       "{'criterion': 'entropy', 'max_depth': 43, 'max_features': 'sqrt'}"
      ]
     },
     "execution_count": 100,
     "metadata": {},
     "output_type": "execute_result"
    }
   ],
   "source": [
    "# Prints the best parameters\n",
    "\n",
    "rf_model_binary.best_params_"
   ]
  },
  {
   "cell_type": "code",
   "execution_count": 101,
   "metadata": {},
   "outputs": [
    {
     "name": "stdout",
     "output_type": "stream",
     "text": [
      "--- Train Set Scores ---\n",
      "Accuracy: 0.91\n",
      "F1 score: 0.92\n",
      "\n",
      "--- Test Set Scores ---\n",
      "Accuracy: 0.67\n",
      "F1 score: 0.70\n"
     ]
    }
   ],
   "source": [
    "# Model prediction\n",
    "\n",
    "rf_pred_train_bin = rf_model_binary.predict(X_train)\n",
    "rf_pred_test_bin = rf_model_binary.predict(X_test)\n",
    "\n",
    "# Scores\n",
    "\n",
    "rf_score_bin = classification_score(rf_pred_train_bin, rf_pred_test_bin, \n",
    "                                    y_train_binary, y_test_binary)"
   ]
  },
  {
   "cell_type": "code",
   "execution_count": 102,
   "metadata": {},
   "outputs": [
    {
     "data": {
      "text/plain": [
       "<Figure size 1080x1080 with 0 Axes>"
      ]
     },
     "metadata": {},
     "output_type": "display_data"
    },
    {
     "data": {
      "image/png": "[encoded data removed]",
      "text/plain": [
       "<Figure size 480.1x360 with 1 Axes>"
      ]
     },
     "metadata": {},
     "output_type": "display_data"
    }
   ],
   "source": [
    "# We plot the results obtained from our best models across all 4 methods\n",
    "\n",
    "results = {\"3-class\\nRandom\\nForest\":rf_grid_score,\n",
    "           \"Binary\\nRandom\\nForest\":rf_score_bin}\n",
    "\n",
    "results = pd.DataFrame.from_dict(results).melt()\n",
    "\n",
    "scores = cycle([\"Train Accuracy\",\"Test Accuracy\",\"Train F1 score\",\"Test F1 score\"])\n",
    "results['score'] = [next(scores) for _ in range(len(results))]\n",
    "results.rename(columns = {'variable':'model'}, inplace=True) \n",
    "\n",
    "plt.figure(figsize=(15,15))\n",
    "plot = sns.catplot(x=\"model\", y=\"value\", hue=\"score\", kind=\"bar\", data=results)"
   ]
  },
  {
   "cell_type": "markdown",
   "metadata": {},
   "source": [
    "<hr>\n",
    "\n",
    "\n",
    "### 4.4 Overal Parameter Impact Overview\n",
    "\n",
    "Given that we looked at a lot of different models via grid search, it would be interesting to look into the impact each parameter has on the model performance.\n",
    "\n",
    "<u>Observations (See code cells below):</u>\n",
    "\n",
    "- Entropy is marginally better than Gini\n",
    "\n",
    "- Accuracy seems proportional to max depth, however, past a certain point, the F1 score starts to decrease\n",
    "\n",
    "- Sqrt and Auto are marginally better than log2\n",
    "\n",
    "<u>Final outlook on parameters' impact:</u>\n",
    "\n",
    "Based on our observations, the **main impacting parameter is Max Depth**. However, the overall performance of the model (with regards to the F1 score) plateaus rapidly, indicating that Random Forest has a maximum efficacy in classifying the dataset."
   ]
  },
  {
   "cell_type": "code",
   "execution_count": 103,
   "metadata": {},
   "outputs": [],
   "source": [
    "# Recall the parameters used for the random forest grid search\n",
    "\n",
    "criterions = (\"gini\", \"entropy\")\n",
    "\n",
    "max_features = (\"auto\", \"sqrt\", \"log2\")\n",
    "\n",
    "max_depths = list(range(5, 60, 5))"
   ]
  },
  {
   "cell_type": "markdown",
   "metadata": {},
   "source": [
    "<u>Criterion impact overview:</u>"
   ]
  },
  {
   "cell_type": "code",
   "execution_count": 107,
   "metadata": {},
   "outputs": [
    {
     "name": "stdout",
     "output_type": "stream",
     "text": [
      "\n",
      "Modeling with criterion: gini\n",
      "--- Train Set Scores ---\n",
      "Accuracy: 0.87\n",
      "F1 score: 0.88\n",
      "\n",
      "--- Test Set Scores ---\n",
      "Accuracy: 0.64\n",
      "F1 score: 0.70\n",
      "\n",
      "Modeling with criterion: entropy\n",
      "--- Train Set Scores ---\n",
      "Accuracy: 0.89\n",
      "F1 score: 0.90\n",
      "\n",
      "--- Test Set Scores ---\n",
      "Accuracy: 0.63\n",
      "F1 score: 0.69\n"
     ]
    }
   ],
   "source": [
    "# Training a random forest while varying the criterion\n",
    "\n",
    "criterion_results = []\n",
    "\n",
    "for criterion in criterions:\n",
    "    model = RandomForestClassifier(criterion=criterion,\n",
    "                                   max_depth=37,\n",
    "                                   max_features=\"sqrt\")\n",
    "    model.fit(X_train, y_train)\n",
    "    pred_train = model.predict(X_train)\n",
    "    pred_test = model.predict(X_test)\n",
    "    print(f\"\\nModeling with criterion: {criterion}\")\n",
    "    score = classification_score(pred_train, pred_test,\n",
    "                                 y_train, y_test)\n",
    "    criterion_results.append(score)"
   ]
  },
  {
   "cell_type": "code",
   "execution_count": 108,
   "metadata": {},
   "outputs": [
    {
     "data": {
      "text/plain": [
       "<Figure size 1080x1080 with 0 Axes>"
      ]
     },
     "metadata": {},
     "output_type": "display_data"
    },
    {
     "data": {
      "image/png": "[encoded data removed]",
      "text/plain": [
       "<Figure size 480.1x360 with 1 Axes>"
      ]
     },
     "metadata": {},
     "output_type": "display_data"
    }
   ],
   "source": [
    "# Plotting the change due to criterion\n",
    "\n",
    "results = {\"Random Forest\\nwith Gini criterion\":criterion_results[0],\n",
    "           \"Random Forest\\nwith Entropy criterion\":criterion_results[1]}\n",
    "\n",
    "results = pd.DataFrame.from_dict(results).melt()\n",
    "\n",
    "scores = cycle([\"Train Accuracy\",\"Test Accuracy\",\"Train F1 score\",\"Test F1 score\"])\n",
    "results['score'] = [next(scores) for _ in range(len(results))]\n",
    "results.rename(columns = {'variable':'model'}, inplace=True) \n",
    "\n",
    "plt.figure(figsize=(15,15))\n",
    "plot = sns.catplot(x=\"model\", y=\"value\", hue=\"score\", kind=\"bar\", data=results)"
   ]
  },
  {
   "cell_type": "markdown",
   "metadata": {},
   "source": [
    "<u>Max Depth impact overview:</u>"
   ]
  },
  {
   "cell_type": "code",
   "execution_count": 109,
   "metadata": {},
   "outputs": [
    {
     "name": "stdout",
     "output_type": "stream",
     "text": [
      "\n",
      "Modeling with max depth: 5\n",
      "--- Train Set Scores ---\n",
      "Accuracy: 0.60\n",
      "F1 score: 0.75\n",
      "\n",
      "--- Test Set Scores ---\n",
      "Accuracy: 0.58\n",
      "F1 score: 0.73\n",
      "\n",
      "Modeling with max depth: 10\n",
      "--- Train Set Scores ---\n",
      "Accuracy: 0.65\n",
      "F1 score: 0.75\n",
      "\n",
      "--- Test Set Scores ---\n",
      "Accuracy: 0.59\n",
      "F1 score: 0.72\n",
      "\n",
      "Modeling with max depth: 15\n",
      "--- Train Set Scores ---\n",
      "Accuracy: 0.72\n",
      "F1 score: 0.77\n",
      "\n",
      "--- Test Set Scores ---\n",
      "Accuracy: 0.61\n",
      "F1 score: 0.71\n",
      "\n",
      "Modeling with max depth: 20\n",
      "--- Train Set Scores ---\n",
      "Accuracy: 0.76\n",
      "F1 score: 0.79\n",
      "\n",
      "--- Test Set Scores ---\n",
      "Accuracy: 0.62\n",
      "F1 score: 0.69\n",
      "\n",
      "Modeling with max depth: 25\n",
      "--- Train Set Scores ---\n",
      "Accuracy: 0.80\n",
      "F1 score: 0.82\n",
      "\n",
      "--- Test Set Scores ---\n",
      "Accuracy: 0.62\n",
      "F1 score: 0.70\n",
      "\n",
      "Modeling with max depth: 30\n",
      "--- Train Set Scores ---\n",
      "Accuracy: 0.84\n",
      "F1 score: 0.85\n",
      "\n",
      "--- Test Set Scores ---\n",
      "Accuracy: 0.63\n",
      "F1 score: 0.70\n",
      "\n",
      "Modeling with max depth: 35\n",
      "--- Train Set Scores ---\n",
      "Accuracy: 0.87\n",
      "F1 score: 0.87\n",
      "\n",
      "--- Test Set Scores ---\n",
      "Accuracy: 0.63\n",
      "F1 score: 0.69\n",
      "\n",
      "Modeling with max depth: 40\n",
      "--- Train Set Scores ---\n",
      "Accuracy: 0.89\n",
      "F1 score: 0.90\n",
      "\n",
      "--- Test Set Scores ---\n",
      "Accuracy: 0.63\n",
      "F1 score: 0.68\n",
      "\n",
      "Modeling with max depth: 45\n",
      "--- Train Set Scores ---\n",
      "Accuracy: 0.91\n",
      "F1 score: 0.91\n",
      "\n",
      "--- Test Set Scores ---\n",
      "Accuracy: 0.63\n",
      "F1 score: 0.68\n",
      "\n",
      "Modeling with max depth: 50\n",
      "--- Train Set Scores ---\n",
      "Accuracy: 0.93\n",
      "F1 score: 0.94\n",
      "\n",
      "--- Test Set Scores ---\n",
      "Accuracy: 0.64\n",
      "F1 score: 0.70\n",
      "\n",
      "Modeling with max depth: 55\n",
      "--- Train Set Scores ---\n",
      "Accuracy: 0.94\n",
      "F1 score: 0.95\n",
      "\n",
      "--- Test Set Scores ---\n",
      "Accuracy: 0.64\n",
      "F1 score: 0.69\n"
     ]
    }
   ],
   "source": [
    "# Training a random forest while varying the Max Depth\n",
    "\n",
    "max_depth_results = []\n",
    "\n",
    "for max_depth in max_depths:\n",
    "    model = RandomForestClassifier(criterion=\"gini\",\n",
    "                                   max_depth=max_depth,\n",
    "                                   max_features=\"sqrt\")\n",
    "    model.fit(X_train, y_train)\n",
    "    pred_train = model.predict(X_train)\n",
    "    pred_test = model.predict(X_test)\n",
    "    print(f\"\\nModeling with max depth: {max_depth}\")\n",
    "    score = classification_score(pred_train, pred_test,\n",
    "                                 y_train, y_test)\n",
    "    max_depth_results.append(score)"
   ]
  },
  {
   "cell_type": "code",
   "execution_count": 110,
   "metadata": {},
   "outputs": [
    {
     "data": {
      "text/plain": [
       "<seaborn.axisgrid.FacetGrid at 0x7f60a4394be0>"
      ]
     },
     "execution_count": 110,
     "metadata": {},
     "output_type": "execute_result"
    },
    {
     "data": {
      "image/png": "[encoded data removed]",
      "text/plain": [
       "<Figure size 962.5x595.44 with 1 Axes>"
      ]
     },
     "metadata": {},
     "output_type": "display_data"
    }
   ],
   "source": [
    "# Plotting the change due to Max Depth\n",
    "\n",
    "results = {f\"RF\\nw/ depth\\n{d}\":max_depth_results[idx] for \n",
    "           idx, d in enumerate(max_depths)}\n",
    "\n",
    "results = pd.DataFrame.from_dict(results).melt()\n",
    "\n",
    "scores = cycle([\"Train Accuracy\",\"Test Accuracy\",\"Train F1 score\",\"Test F1 score\"])\n",
    "results['score'] = [next(scores) for _ in range(len(results))]\n",
    "results.rename(columns = {'variable':'model'}, inplace=True)\n",
    "\n",
    "sns.catplot(x=\"model\", y=\"value\", hue=\"score\", kind=\"bar\", data=results,\n",
    "           height=8.27, aspect=11.7/8.27)"
   ]
  },
  {
   "cell_type": "markdown",
   "metadata": {},
   "source": [
    "<u>Max Features impact overview:</u>"
   ]
  },
  {
   "cell_type": "code",
   "execution_count": 111,
   "metadata": {},
   "outputs": [
    {
     "name": "stdout",
     "output_type": "stream",
     "text": [
      "\n",
      "Modeling with max features: auto:\n",
      "--- Train Set Scores ---\n",
      "Accuracy: 0.87\n",
      "F1 score: 0.88\n",
      "\n",
      "--- Test Set Scores ---\n",
      "Accuracy: 0.64\n",
      "F1 score: 0.70\n",
      "\n",
      "Modeling with max features: sqrt:\n",
      "--- Train Set Scores ---\n",
      "Accuracy: 0.87\n",
      "F1 score: 0.88\n",
      "\n",
      "--- Test Set Scores ---\n",
      "Accuracy: 0.63\n",
      "F1 score: 0.70\n",
      "\n",
      "Modeling with max features: log2:\n",
      "--- Train Set Scores ---\n",
      "Accuracy: 0.79\n",
      "F1 score: 0.81\n",
      "\n",
      "--- Test Set Scores ---\n",
      "Accuracy: 0.61\n",
      "F1 score: 0.71\n"
     ]
    }
   ],
   "source": [
    "# Training a random forest while varying the max features\n",
    "\n",
    "max_features_results = []\n",
    "\n",
    "for feature in max_features:\n",
    "    model = RandomForestClassifier(criterion=\"gini\",\n",
    "                                   max_depth=37,\n",
    "                                   max_features=feature)\n",
    "    model.fit(X_train, y_train)\n",
    "    pred_train = model.predict(X_train)\n",
    "    pred_test = model.predict(X_test)\n",
    "    print(f\"\\nModeling with max features: {feature}:\")\n",
    "    score = classification_score(pred_train, pred_test,\n",
    "                                 y_train, y_test)\n",
    "    max_features_results.append(score)"
   ]
  },
  {
   "cell_type": "code",
   "execution_count": 112,
   "metadata": {},
   "outputs": [
    {
     "data": {
      "text/plain": [
       "<Figure size 1080x1080 with 0 Axes>"
      ]
     },
     "metadata": {},
     "output_type": "display_data"
    },
    {
     "data": {
      "image/png": "[encoded data removed]",
      "text/plain": [
       "<Figure size 480.1x360 with 1 Axes>"
      ]
     },
     "metadata": {},
     "output_type": "display_data"
    }
   ],
   "source": [
    "# Plotting the change due to max features\n",
    "\n",
    "results = {f\"Random Forest\\nwith feature\\n{f}\":max_features_results[idx] for \n",
    "           idx, f in enumerate(max_features)}\n",
    "\n",
    "results = pd.DataFrame.from_dict(results).melt()\n",
    "\n",
    "scores = cycle([\"Train Accuracy\",\"Test Accuracy\",\"Train F1 score\",\"Test F1 score\"])\n",
    "results['score'] = [next(scores) for _ in range(len(results))]\n",
    "results.rename(columns = {'variable':'model'}, inplace=True) \n",
    "\n",
    "plt.figure(figsize=(15,15))\n",
    "plot = sns.catplot(x=\"model\", y=\"value\", hue=\"score\", kind=\"bar\", data=results)"
   ]
  },
  {
   "cell_type": "markdown",
   "metadata": {},
   "source": [
    "## 5. Conclusion\n",
    "\n",
    "### 5.1 Variable and Model Choice\n",
    "\n",
    "After some data pre-processing, we focus our modeling effort on the following variables:\n",
    "\n",
    "| Variable | Note on preprocessing | \n",
    "| :--- | :--- |\n",
    "| Age | Float variable constructed out of DOB and ADMITTIME |\n",
    "| GENDER | One-Hot encoded | \n",
    "| MARITAL_STATUS | One-Hot encoded | \n",
    "| ETHNICITY | One-Hot encoded | \n",
    "| INSURANCE | One-Hot encoded | \n",
    "| ADMISSION_TYPE | One-Hot encoded | \n",
    "| Length of stay | Float variable constructed out of DISCTIME and ADMITTIME |\n",
    "| DIAGNOSIS | A bag of words reprensentation created via CountVectorizer |\n",
    "\n",
    "With regards to our classification effort, we have seen six different models. **Each model yielded the following best scores after thorough use of the GridSearch function** (provided by the scikit-learn library):\n",
    "\n",
    "| Model | Train Accuracy | Test Accuracy | Train F1 Score | Test F1 Score | Our Final Choice |\n",
    "| :--- | :--- | :--- | :--- | :--- | :---: |\n",
    "| Logistic Regression | 0.70 | <span style=\"color:green\">**0.64**</span> | 0.74 | 0.68 | <span style=\"color:red\">**$\\times$**</span> |\n",
    "| KNN | 0.65 | 0.61 | 0.71 | 0.68 | <span style=\"color:red\">**$\\times$**</span> |\n",
    "| Naive Bayes | 0.39 | 0.23 | 0.36 | 0.22 | <span style=\"color:red\">**$\\times$**</span> |\n",
    "| Random Forest | <span style=\"color:green\">**0.86**</span> | 0.63 | <span style=\"color:green\">**0.87**</span> | <span style=\"color:green\">**0.69**</span> | <span style=\"color:green\">**$\\star$**</span> |\n",
    "| Support Vector Machine for classification (SVC) | 0.72 | 0.62 | 0.77 | 0.68 | <span style=\"color:red\">**$\\times$**</span> |\n",
    "| Boosting | 0.67 | 0.61 | 0.70 | 0.67 | <span style=\"color:red\">**$\\times$**</span> |\n",
    "\n",
    "### 5.2 Best Model Parameters\n",
    "\n",
    "Albeit Logistic Regression provides the best test accuracy, it is only 1 basis point better than the Random Forest Classifier. Meanwhile the Random Forest Classifier model leads in all other metrics.\n",
    "\n",
    "As such, **we choose to continue forward with the Random Forest Classifier** model, which results were maximized under the following parameters:\n",
    "\n",
    "| Parameter | ArgMax for Model |\n",
    "| :--- | :---: |\n",
    "| criterion | <span style=\"color:green\">**Entropy**</span> |\n",
    "| max_feature | <span style=\"color:green\">**sqrt**</span> |\n",
    "| max_depth  | <span style=\"color:green\">**31**</span> |\n",
    "\n",
    "\n",
    "### 5.3 Looking for ways to improve the predictions\n",
    "\n",
    "We have looked into how to increase the performance of our best model, and have reached the following observations:\n",
    "\n",
    "\n",
    "1. A **limitation** with regards to training the model **relates to how we represent our data**. It is possible, and rather likely, that we can achieve a better representation/embedding of our variables (such as with our bag of words embedding of the DIAGNOSIS collumn). \n",
    "\n",
    "\n",
    "2. **Some variables we have included might be removed**. It can be either for ethical reason (such as with the ETHNICITY variable) or for variance reason. Indeed, it is very likely that some included variables only have a limited, if not null, effect on the end prediction (e.g. removing the ETHNICITY variable from the dataset barely impacted end results).\n",
    "\n",
    "\n",
    "3. With regards to our selected model (a random forest classifier), we saw that **reducing the number of classes in our dataset from 3 to 2 marginally changed the end predictive power**. As such, we might infer that **we have a limit in performance not set by hyperparameter choice, but by our choice of model**.\n",
    "\n",
    "\n",
    "### 5.4 Further explorations?\n",
    "\n",
    "Based on our observations above, we see that we might have end up with limitations set both by our dataset representation but also by our model choice. As such, if further explorations were to be performed, we could focus on the following:\n",
    "\n",
    "1. **Provide a new embedding/representation for the data** (for instance by including the variable TEXT after a thorough cleaning of the content due to data leakage risk). \n",
    "\n",
    "\n",
    "2. **Use more complex models** such as neural networks or deep learning in general (for instance a binary classifier using a dense and deep fully connected neural network could be an avenue of exploration). "
   ]
  }
 ],
 "metadata": {
  "kernelspec": {
   "display_name": "Python 3",
   "language": "python",
   "name": "python3"
  },
  "language_info": {
   "codemirror_mode": {
    "name": "ipython",
    "version": 3
   },
   "file_extension": ".py",
   "mimetype": "text/x-python",
   "name": "python",
   "nbconvert_exporter": "python",
   "pygments_lexer": "ipython3",
   "version": "3.8.5"
  }
 },
 "nbformat": 4,
 "nbformat_minor": 4
}
